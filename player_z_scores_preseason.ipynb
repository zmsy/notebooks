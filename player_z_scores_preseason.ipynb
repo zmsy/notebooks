{
 "cells": [
  {
   "cell_type": "markdown",
   "metadata": {},
   "source": [
    "# Calculate Z-scores for players\n",
    "\n",
    "This takes the list of players that we're trying to calculate scores for, and creates z-scores for players with an arbitrarily chosen minimum innings (for pitchers) or plate appearances (for hitters).\n",
    "\n",
    "Notes for this year's sheet:\n",
    "\n",
    "- Z-score avg/stdev calculated using minimum IP or PA stats for batting and pitching.\n",
    "- Reliever value was artificially decremented as usual since they're normally over-inflated value-wise. Multiplied by (project innings) / (90th pctile of projected innings), capped at 1.0."
   ]
  },
  {
   "cell_type": "code",
   "execution_count": 1,
   "metadata": {},
   "outputs": [],
   "source": [
    "import pandas as pd\n",
    "import numpy as np\n",
    "import os\n",
    "import sqlalchemy\n",
    "import psycopg2\n",
    "import seaborn as sb\n",
    "import requests\n",
    "from datetime import datetime\n",
    "\n",
    "# arbitrarily high max view columns\n",
    "pd.options.display.max_columns = 150\n",
    "pd.options.display.max_rows = 200"
   ]
  },
  {
   "cell_type": "markdown",
   "metadata": {},
   "source": [
    "## Postgres Connection Information\n",
    "\n",
    "These are used to get and return a connection to the postgres DB so that we can query for player stats and write them back to the table."
   ]
  },
  {
   "cell_type": "code",
   "execution_count": 2,
   "metadata": {},
   "outputs": [],
   "source": [
    "# connection information for the database\n",
    "POSTGRES_USER = os.environ.get(\"POSTGRES_USER\")\n",
    "POSTGRES_PASSWORD = os.environ.get(\"POSTGRES_PASSWORD\")\n",
    "POSTGRES_IP = \"192.168.0.118\"\n",
    "POSTGRES_PORT = 5432\n",
    "POSTGRES_DB = \"postgres\"\n",
    "\n",
    "\n",
    "def get_sqlalchemy_engine():\n",
    "    \"\"\"\n",
    "    Create and return a SQLAlchemy engine for inserting into postgres.\n",
    "    \"\"\"\n",
    "    # ## Write Information Back to Database\n",
    "    #\n",
    "    return sqlalchemy.create_engine(\n",
    "        \"postgresql://{user}:{password}@{host}:{port}/{db}\".format(\n",
    "            user=POSTGRES_USER,\n",
    "            password=POSTGRES_PASSWORD,\n",
    "            host=POSTGRES_IP,\n",
    "            port=POSTGRES_PORT,\n",
    "            db=POSTGRES_DB,\n",
    "        )\n",
    "    )"
   ]
  },
  {
   "cell_type": "code",
   "execution_count": 4,
   "metadata": {},
   "outputs": [
    {
     "ename": "OperationalError",
     "evalue": "(psycopg2.OperationalError) connection to server at \"192.168.0.118\", port 5432 failed: FATAL:  password authentication failed for user \"zach\"\nconnection to server at \"192.168.0.118\", port 5432 failed: FATAL:  password authentication failed for user \"zach\"\n\n(Background on this error at: https://sqlalche.me/e/14/e3q8)",
     "output_type": "error",
     "traceback": [
      "\u001b[0;31m---------------------------------------------------------------------------\u001b[0m",
      "\u001b[0;31mOperationalError\u001b[0m                          Traceback (most recent call last)",
      "File \u001b[0;32m/usr/local/lib/python3.9/site-packages/sqlalchemy/engine/base.py:3256\u001b[0m, in \u001b[0;36mEngine._wrap_pool_connect\u001b[0;34m(self, fn, connection)\u001b[0m\n\u001b[1;32m   3255\u001b[0m \u001b[38;5;28;01mtry\u001b[39;00m:\n\u001b[0;32m-> 3256\u001b[0m     \u001b[38;5;28;01mreturn\u001b[39;00m \u001b[43mfn\u001b[49m\u001b[43m(\u001b[49m\u001b[43m)\u001b[49m\n\u001b[1;32m   3257\u001b[0m \u001b[38;5;28;01mexcept\u001b[39;00m dialect\u001b[38;5;241m.\u001b[39mdbapi\u001b[38;5;241m.\u001b[39mError \u001b[38;5;28;01mas\u001b[39;00m e:\n",
      "File \u001b[0;32m/usr/local/lib/python3.9/site-packages/sqlalchemy/pool/base.py:310\u001b[0m, in \u001b[0;36mPool.connect\u001b[0;34m(self)\u001b[0m\n\u001b[1;32m    303\u001b[0m \u001b[38;5;124;03m\"\"\"Return a DBAPI connection from the pool.\u001b[39;00m\n\u001b[1;32m    304\u001b[0m \n\u001b[1;32m    305\u001b[0m \u001b[38;5;124;03mThe connection is instrumented such that when its\u001b[39;00m\n\u001b[0;32m   (...)\u001b[0m\n\u001b[1;32m    308\u001b[0m \n\u001b[1;32m    309\u001b[0m \u001b[38;5;124;03m\"\"\"\u001b[39;00m\n\u001b[0;32m--> 310\u001b[0m \u001b[38;5;28;01mreturn\u001b[39;00m \u001b[43m_ConnectionFairy\u001b[49m\u001b[38;5;241;43m.\u001b[39;49m\u001b[43m_checkout\u001b[49m\u001b[43m(\u001b[49m\u001b[38;5;28;43mself\u001b[39;49m\u001b[43m)\u001b[49m\n",
      "File \u001b[0;32m/usr/local/lib/python3.9/site-packages/sqlalchemy/pool/base.py:868\u001b[0m, in \u001b[0;36m_ConnectionFairy._checkout\u001b[0;34m(cls, pool, threadconns, fairy)\u001b[0m\n\u001b[1;32m    867\u001b[0m \u001b[38;5;28;01mif\u001b[39;00m \u001b[38;5;129;01mnot\u001b[39;00m fairy:\n\u001b[0;32m--> 868\u001b[0m     fairy \u001b[38;5;241m=\u001b[39m \u001b[43m_ConnectionRecord\u001b[49m\u001b[38;5;241;43m.\u001b[39;49m\u001b[43mcheckout\u001b[49m\u001b[43m(\u001b[49m\u001b[43mpool\u001b[49m\u001b[43m)\u001b[49m\n\u001b[1;32m    870\u001b[0m     fairy\u001b[38;5;241m.\u001b[39m_pool \u001b[38;5;241m=\u001b[39m pool\n",
      "File \u001b[0;32m/usr/local/lib/python3.9/site-packages/sqlalchemy/pool/base.py:476\u001b[0m, in \u001b[0;36m_ConnectionRecord.checkout\u001b[0;34m(cls, pool)\u001b[0m\n\u001b[1;32m    474\u001b[0m \u001b[38;5;129m@classmethod\u001b[39m\n\u001b[1;32m    475\u001b[0m \u001b[38;5;28;01mdef\u001b[39;00m \u001b[38;5;21mcheckout\u001b[39m(\u001b[38;5;28mcls\u001b[39m, pool):\n\u001b[0;32m--> 476\u001b[0m     rec \u001b[38;5;241m=\u001b[39m \u001b[43mpool\u001b[49m\u001b[38;5;241;43m.\u001b[39;49m\u001b[43m_do_get\u001b[49m\u001b[43m(\u001b[49m\u001b[43m)\u001b[49m\n\u001b[1;32m    477\u001b[0m     \u001b[38;5;28;01mtry\u001b[39;00m:\n",
      "File \u001b[0;32m/usr/local/lib/python3.9/site-packages/sqlalchemy/pool/impl.py:146\u001b[0m, in \u001b[0;36mQueuePool._do_get\u001b[0;34m(self)\u001b[0m\n\u001b[1;32m    145\u001b[0m         \u001b[38;5;28;01mwith\u001b[39;00m util\u001b[38;5;241m.\u001b[39msafe_reraise():\n\u001b[0;32m--> 146\u001b[0m             \u001b[38;5;28mself\u001b[39m\u001b[38;5;241m.\u001b[39m_dec_overflow()\n\u001b[1;32m    147\u001b[0m \u001b[38;5;28;01melse\u001b[39;00m:\n",
      "File \u001b[0;32m/usr/local/lib/python3.9/site-packages/sqlalchemy/util/langhelpers.py:70\u001b[0m, in \u001b[0;36msafe_reraise.__exit__\u001b[0;34m(self, type_, value, traceback)\u001b[0m\n\u001b[1;32m     69\u001b[0m     \u001b[38;5;28;01mif\u001b[39;00m \u001b[38;5;129;01mnot\u001b[39;00m \u001b[38;5;28mself\u001b[39m\u001b[38;5;241m.\u001b[39mwarn_only:\n\u001b[0;32m---> 70\u001b[0m         \u001b[43mcompat\u001b[49m\u001b[38;5;241;43m.\u001b[39;49m\u001b[43mraise_\u001b[49m\u001b[43m(\u001b[49m\n\u001b[1;32m     71\u001b[0m \u001b[43m            \u001b[49m\u001b[43mexc_value\u001b[49m\u001b[43m,\u001b[49m\n\u001b[1;32m     72\u001b[0m \u001b[43m            \u001b[49m\u001b[43mwith_traceback\u001b[49m\u001b[38;5;241;43m=\u001b[39;49m\u001b[43mexc_tb\u001b[49m\u001b[43m,\u001b[49m\n\u001b[1;32m     73\u001b[0m \u001b[43m        \u001b[49m\u001b[43m)\u001b[49m\n\u001b[1;32m     74\u001b[0m \u001b[38;5;28;01melse\u001b[39;00m:\n",
      "File \u001b[0;32m/usr/local/lib/python3.9/site-packages/sqlalchemy/util/compat.py:207\u001b[0m, in \u001b[0;36mraise_\u001b[0;34m(***failed resolving arguments***)\u001b[0m\n\u001b[1;32m    206\u001b[0m \u001b[38;5;28;01mtry\u001b[39;00m:\n\u001b[0;32m--> 207\u001b[0m     \u001b[38;5;28;01mraise\u001b[39;00m exception\n\u001b[1;32m    208\u001b[0m \u001b[38;5;28;01mfinally\u001b[39;00m:\n\u001b[1;32m    209\u001b[0m     \u001b[38;5;66;03m# credit to\u001b[39;00m\n\u001b[1;32m    210\u001b[0m     \u001b[38;5;66;03m# https://cosmicpercolator.com/2016/01/13/exception-leaks-in-python-2-and-3/\u001b[39;00m\n\u001b[1;32m    211\u001b[0m     \u001b[38;5;66;03m# as the __traceback__ object creates a cycle\u001b[39;00m\n",
      "File \u001b[0;32m/usr/local/lib/python3.9/site-packages/sqlalchemy/pool/impl.py:143\u001b[0m, in \u001b[0;36mQueuePool._do_get\u001b[0;34m(self)\u001b[0m\n\u001b[1;32m    142\u001b[0m \u001b[38;5;28;01mtry\u001b[39;00m:\n\u001b[0;32m--> 143\u001b[0m     \u001b[38;5;28;01mreturn\u001b[39;00m \u001b[38;5;28;43mself\u001b[39;49m\u001b[38;5;241;43m.\u001b[39;49m\u001b[43m_create_connection\u001b[49m\u001b[43m(\u001b[49m\u001b[43m)\u001b[49m\n\u001b[1;32m    144\u001b[0m \u001b[38;5;28;01mexcept\u001b[39;00m:\n",
      "File \u001b[0;32m/usr/local/lib/python3.9/site-packages/sqlalchemy/pool/base.py:256\u001b[0m, in \u001b[0;36mPool._create_connection\u001b[0;34m(self)\u001b[0m\n\u001b[1;32m    254\u001b[0m \u001b[38;5;124;03m\"\"\"Called by subclasses to create a new ConnectionRecord.\"\"\"\u001b[39;00m\n\u001b[0;32m--> 256\u001b[0m \u001b[38;5;28;01mreturn\u001b[39;00m \u001b[43m_ConnectionRecord\u001b[49m\u001b[43m(\u001b[49m\u001b[38;5;28;43mself\u001b[39;49m\u001b[43m)\u001b[49m\n",
      "File \u001b[0;32m/usr/local/lib/python3.9/site-packages/sqlalchemy/pool/base.py:371\u001b[0m, in \u001b[0;36m_ConnectionRecord.__init__\u001b[0;34m(self, pool, connect)\u001b[0m\n\u001b[1;32m    370\u001b[0m \u001b[38;5;28;01mif\u001b[39;00m connect:\n\u001b[0;32m--> 371\u001b[0m     \u001b[38;5;28;43mself\u001b[39;49m\u001b[38;5;241;43m.\u001b[39;49m\u001b[43m__connect\u001b[49m\u001b[43m(\u001b[49m\u001b[43m)\u001b[49m\n\u001b[1;32m    372\u001b[0m \u001b[38;5;28mself\u001b[39m\u001b[38;5;241m.\u001b[39mfinalize_callback \u001b[38;5;241m=\u001b[39m deque()\n",
      "File \u001b[0;32m/usr/local/lib/python3.9/site-packages/sqlalchemy/pool/base.py:666\u001b[0m, in \u001b[0;36m_ConnectionRecord.__connect\u001b[0;34m(self)\u001b[0m\n\u001b[1;32m    665\u001b[0m     \u001b[38;5;28;01mwith\u001b[39;00m util\u001b[38;5;241m.\u001b[39msafe_reraise():\n\u001b[0;32m--> 666\u001b[0m         pool\u001b[38;5;241m.\u001b[39mlogger\u001b[38;5;241m.\u001b[39mdebug(\u001b[38;5;124m\"\u001b[39m\u001b[38;5;124mError on connect(): \u001b[39m\u001b[38;5;132;01m%s\u001b[39;00m\u001b[38;5;124m\"\u001b[39m, e)\n\u001b[1;32m    667\u001b[0m \u001b[38;5;28;01melse\u001b[39;00m:\n\u001b[1;32m    668\u001b[0m     \u001b[38;5;66;03m# in SQLAlchemy 1.4 the first_connect event is not used by\u001b[39;00m\n\u001b[1;32m    669\u001b[0m     \u001b[38;5;66;03m# the engine, so this will usually not be set\u001b[39;00m\n",
      "File \u001b[0;32m/usr/local/lib/python3.9/site-packages/sqlalchemy/util/langhelpers.py:70\u001b[0m, in \u001b[0;36msafe_reraise.__exit__\u001b[0;34m(self, type_, value, traceback)\u001b[0m\n\u001b[1;32m     69\u001b[0m     \u001b[38;5;28;01mif\u001b[39;00m \u001b[38;5;129;01mnot\u001b[39;00m \u001b[38;5;28mself\u001b[39m\u001b[38;5;241m.\u001b[39mwarn_only:\n\u001b[0;32m---> 70\u001b[0m         \u001b[43mcompat\u001b[49m\u001b[38;5;241;43m.\u001b[39;49m\u001b[43mraise_\u001b[49m\u001b[43m(\u001b[49m\n\u001b[1;32m     71\u001b[0m \u001b[43m            \u001b[49m\u001b[43mexc_value\u001b[49m\u001b[43m,\u001b[49m\n\u001b[1;32m     72\u001b[0m \u001b[43m            \u001b[49m\u001b[43mwith_traceback\u001b[49m\u001b[38;5;241;43m=\u001b[39;49m\u001b[43mexc_tb\u001b[49m\u001b[43m,\u001b[49m\n\u001b[1;32m     73\u001b[0m \u001b[43m        \u001b[49m\u001b[43m)\u001b[49m\n\u001b[1;32m     74\u001b[0m \u001b[38;5;28;01melse\u001b[39;00m:\n",
      "File \u001b[0;32m/usr/local/lib/python3.9/site-packages/sqlalchemy/util/compat.py:207\u001b[0m, in \u001b[0;36mraise_\u001b[0;34m(***failed resolving arguments***)\u001b[0m\n\u001b[1;32m    206\u001b[0m \u001b[38;5;28;01mtry\u001b[39;00m:\n\u001b[0;32m--> 207\u001b[0m     \u001b[38;5;28;01mraise\u001b[39;00m exception\n\u001b[1;32m    208\u001b[0m \u001b[38;5;28;01mfinally\u001b[39;00m:\n\u001b[1;32m    209\u001b[0m     \u001b[38;5;66;03m# credit to\u001b[39;00m\n\u001b[1;32m    210\u001b[0m     \u001b[38;5;66;03m# https://cosmicpercolator.com/2016/01/13/exception-leaks-in-python-2-and-3/\u001b[39;00m\n\u001b[1;32m    211\u001b[0m     \u001b[38;5;66;03m# as the __traceback__ object creates a cycle\u001b[39;00m\n",
      "File \u001b[0;32m/usr/local/lib/python3.9/site-packages/sqlalchemy/pool/base.py:661\u001b[0m, in \u001b[0;36m_ConnectionRecord.__connect\u001b[0;34m(self)\u001b[0m\n\u001b[1;32m    660\u001b[0m \u001b[38;5;28mself\u001b[39m\u001b[38;5;241m.\u001b[39mstarttime \u001b[38;5;241m=\u001b[39m time\u001b[38;5;241m.\u001b[39mtime()\n\u001b[0;32m--> 661\u001b[0m \u001b[38;5;28mself\u001b[39m\u001b[38;5;241m.\u001b[39mdbapi_connection \u001b[38;5;241m=\u001b[39m connection \u001b[38;5;241m=\u001b[39m \u001b[43mpool\u001b[49m\u001b[38;5;241;43m.\u001b[39;49m\u001b[43m_invoke_creator\u001b[49m\u001b[43m(\u001b[49m\u001b[38;5;28;43mself\u001b[39;49m\u001b[43m)\u001b[49m\n\u001b[1;32m    662\u001b[0m pool\u001b[38;5;241m.\u001b[39mlogger\u001b[38;5;241m.\u001b[39mdebug(\u001b[38;5;124m\"\u001b[39m\u001b[38;5;124mCreated new connection \u001b[39m\u001b[38;5;132;01m%r\u001b[39;00m\u001b[38;5;124m\"\u001b[39m, connection)\n",
      "File \u001b[0;32m/usr/local/lib/python3.9/site-packages/sqlalchemy/engine/create.py:590\u001b[0m, in \u001b[0;36mcreate_engine.<locals>.connect\u001b[0;34m(connection_record)\u001b[0m\n\u001b[1;32m    589\u001b[0m             \u001b[38;5;28;01mreturn\u001b[39;00m connection\n\u001b[0;32m--> 590\u001b[0m \u001b[38;5;28;01mreturn\u001b[39;00m \u001b[43mdialect\u001b[49m\u001b[38;5;241;43m.\u001b[39;49m\u001b[43mconnect\u001b[49m\u001b[43m(\u001b[49m\u001b[38;5;241;43m*\u001b[39;49m\u001b[43mcargs\u001b[49m\u001b[43m,\u001b[49m\u001b[43m \u001b[49m\u001b[38;5;241;43m*\u001b[39;49m\u001b[38;5;241;43m*\u001b[39;49m\u001b[43mcparams\u001b[49m\u001b[43m)\u001b[49m\n",
      "File \u001b[0;32m/usr/local/lib/python3.9/site-packages/sqlalchemy/engine/default.py:597\u001b[0m, in \u001b[0;36mDefaultDialect.connect\u001b[0;34m(self, *cargs, **cparams)\u001b[0m\n\u001b[1;32m    595\u001b[0m \u001b[38;5;28;01mdef\u001b[39;00m \u001b[38;5;21mconnect\u001b[39m(\u001b[38;5;28mself\u001b[39m, \u001b[38;5;241m*\u001b[39mcargs, \u001b[38;5;241m*\u001b[39m\u001b[38;5;241m*\u001b[39mcparams):\n\u001b[1;32m    596\u001b[0m     \u001b[38;5;66;03m# inherits the docstring from interfaces.Dialect.connect\u001b[39;00m\n\u001b[0;32m--> 597\u001b[0m     \u001b[38;5;28;01mreturn\u001b[39;00m \u001b[38;5;28;43mself\u001b[39;49m\u001b[38;5;241;43m.\u001b[39;49m\u001b[43mdbapi\u001b[49m\u001b[38;5;241;43m.\u001b[39;49m\u001b[43mconnect\u001b[49m\u001b[43m(\u001b[49m\u001b[38;5;241;43m*\u001b[39;49m\u001b[43mcargs\u001b[49m\u001b[43m,\u001b[49m\u001b[43m \u001b[49m\u001b[38;5;241;43m*\u001b[39;49m\u001b[38;5;241;43m*\u001b[39;49m\u001b[43mcparams\u001b[49m\u001b[43m)\u001b[49m\n",
      "File \u001b[0;32m/usr/local/lib/python3.9/site-packages/psycopg2/__init__.py:122\u001b[0m, in \u001b[0;36mconnect\u001b[0;34m(dsn, connection_factory, cursor_factory, **kwargs)\u001b[0m\n\u001b[1;32m    121\u001b[0m dsn \u001b[38;5;241m=\u001b[39m _ext\u001b[38;5;241m.\u001b[39mmake_dsn(dsn, \u001b[38;5;241m*\u001b[39m\u001b[38;5;241m*\u001b[39mkwargs)\n\u001b[0;32m--> 122\u001b[0m conn \u001b[38;5;241m=\u001b[39m \u001b[43m_connect\u001b[49m\u001b[43m(\u001b[49m\u001b[43mdsn\u001b[49m\u001b[43m,\u001b[49m\u001b[43m \u001b[49m\u001b[43mconnection_factory\u001b[49m\u001b[38;5;241;43m=\u001b[39;49m\u001b[43mconnection_factory\u001b[49m\u001b[43m,\u001b[49m\u001b[43m \u001b[49m\u001b[38;5;241;43m*\u001b[39;49m\u001b[38;5;241;43m*\u001b[39;49m\u001b[43mkwasync\u001b[49m\u001b[43m)\u001b[49m\n\u001b[1;32m    123\u001b[0m \u001b[38;5;28;01mif\u001b[39;00m cursor_factory \u001b[38;5;129;01mis\u001b[39;00m \u001b[38;5;129;01mnot\u001b[39;00m \u001b[38;5;28;01mNone\u001b[39;00m:\n",
      "\u001b[0;31mOperationalError\u001b[0m: connection to server at \"192.168.0.118\", port 5432 failed: FATAL:  password authentication failed for user \"zach\"\nconnection to server at \"192.168.0.118\", port 5432 failed: FATAL:  password authentication failed for user \"zach\"\n",
      "\nThe above exception was the direct cause of the following exception:\n",
      "\u001b[0;31mOperationalError\u001b[0m                          Traceback (most recent call last)",
      "Input \u001b[0;32mIn [4]\u001b[0m, in \u001b[0;36m<cell line: 3>\u001b[0;34m()\u001b[0m\n\u001b[1;32m      1\u001b[0m \u001b[38;5;66;03m# create a connection and read in pitchers data\u001b[39;00m\n\u001b[1;32m      2\u001b[0m engine \u001b[38;5;241m=\u001b[39m get_sqlalchemy_engine()\n\u001b[0;32m----> 3\u001b[0m conn \u001b[38;5;241m=\u001b[39m \u001b[43mengine\u001b[49m\u001b[38;5;241;43m.\u001b[39;49m\u001b[43mconnect\u001b[49m\u001b[43m(\u001b[49m\u001b[43m)\u001b[49m\n",
      "File \u001b[0;32m/usr/local/lib/python3.9/site-packages/sqlalchemy/engine/base.py:3210\u001b[0m, in \u001b[0;36mEngine.connect\u001b[0;34m(self, close_with_result)\u001b[0m\n\u001b[1;32m   3195\u001b[0m \u001b[38;5;28;01mdef\u001b[39;00m \u001b[38;5;21mconnect\u001b[39m(\u001b[38;5;28mself\u001b[39m, close_with_result\u001b[38;5;241m=\u001b[39m\u001b[38;5;28;01mFalse\u001b[39;00m):\n\u001b[1;32m   3196\u001b[0m     \u001b[38;5;124;03m\"\"\"Return a new :class:`_engine.Connection` object.\u001b[39;00m\n\u001b[1;32m   3197\u001b[0m \n\u001b[1;32m   3198\u001b[0m \u001b[38;5;124;03m    The :class:`_engine.Connection` object is a facade that uses a DBAPI\u001b[39;00m\n\u001b[0;32m   (...)\u001b[0m\n\u001b[1;32m   3207\u001b[0m \n\u001b[1;32m   3208\u001b[0m \u001b[38;5;124;03m    \"\"\"\u001b[39;00m\n\u001b[0;32m-> 3210\u001b[0m     \u001b[38;5;28;01mreturn\u001b[39;00m \u001b[38;5;28;43mself\u001b[39;49m\u001b[38;5;241;43m.\u001b[39;49m\u001b[43m_connection_cls\u001b[49m\u001b[43m(\u001b[49m\u001b[38;5;28;43mself\u001b[39;49m\u001b[43m,\u001b[49m\u001b[43m \u001b[49m\u001b[43mclose_with_result\u001b[49m\u001b[38;5;241;43m=\u001b[39;49m\u001b[43mclose_with_result\u001b[49m\u001b[43m)\u001b[49m\n",
      "File \u001b[0;32m/usr/local/lib/python3.9/site-packages/sqlalchemy/engine/base.py:96\u001b[0m, in \u001b[0;36mConnection.__init__\u001b[0;34m(self, engine, connection, close_with_result, _branch_from, _execution_options, _dispatch, _has_events, _allow_revalidate)\u001b[0m\n\u001b[1;32m     91\u001b[0m     \u001b[38;5;28mself\u001b[39m\u001b[38;5;241m.\u001b[39m_has_events \u001b[38;5;241m=\u001b[39m _branch_from\u001b[38;5;241m.\u001b[39m_has_events\n\u001b[1;32m     92\u001b[0m \u001b[38;5;28;01melse\u001b[39;00m:\n\u001b[1;32m     93\u001b[0m     \u001b[38;5;28mself\u001b[39m\u001b[38;5;241m.\u001b[39m_dbapi_connection \u001b[38;5;241m=\u001b[39m (\n\u001b[1;32m     94\u001b[0m         connection\n\u001b[1;32m     95\u001b[0m         \u001b[38;5;28;01mif\u001b[39;00m connection \u001b[38;5;129;01mis\u001b[39;00m \u001b[38;5;129;01mnot\u001b[39;00m \u001b[38;5;28;01mNone\u001b[39;00m\n\u001b[0;32m---> 96\u001b[0m         \u001b[38;5;28;01melse\u001b[39;00m \u001b[43mengine\u001b[49m\u001b[38;5;241;43m.\u001b[39;49m\u001b[43mraw_connection\u001b[49m\u001b[43m(\u001b[49m\u001b[43m)\u001b[49m\n\u001b[1;32m     97\u001b[0m     )\n\u001b[1;32m     99\u001b[0m     \u001b[38;5;28mself\u001b[39m\u001b[38;5;241m.\u001b[39m_transaction \u001b[38;5;241m=\u001b[39m \u001b[38;5;28mself\u001b[39m\u001b[38;5;241m.\u001b[39m_nested_transaction \u001b[38;5;241m=\u001b[39m \u001b[38;5;28;01mNone\u001b[39;00m\n\u001b[1;32m    100\u001b[0m     \u001b[38;5;28mself\u001b[39m\u001b[38;5;241m.\u001b[39m__savepoint_seq \u001b[38;5;241m=\u001b[39m \u001b[38;5;241m0\u001b[39m\n",
      "File \u001b[0;32m/usr/local/lib/python3.9/site-packages/sqlalchemy/engine/base.py:3289\u001b[0m, in \u001b[0;36mEngine.raw_connection\u001b[0;34m(self, _connection)\u001b[0m\n\u001b[1;32m   3267\u001b[0m \u001b[38;5;28;01mdef\u001b[39;00m \u001b[38;5;21mraw_connection\u001b[39m(\u001b[38;5;28mself\u001b[39m, _connection\u001b[38;5;241m=\u001b[39m\u001b[38;5;28;01mNone\u001b[39;00m):\n\u001b[1;32m   3268\u001b[0m     \u001b[38;5;124;03m\"\"\"Return a \"raw\" DBAPI connection from the connection pool.\u001b[39;00m\n\u001b[1;32m   3269\u001b[0m \n\u001b[1;32m   3270\u001b[0m \u001b[38;5;124;03m    The returned object is a proxied version of the DBAPI\u001b[39;00m\n\u001b[0;32m   (...)\u001b[0m\n\u001b[1;32m   3287\u001b[0m \n\u001b[1;32m   3288\u001b[0m \u001b[38;5;124;03m    \"\"\"\u001b[39;00m\n\u001b[0;32m-> 3289\u001b[0m     \u001b[38;5;28;01mreturn\u001b[39;00m \u001b[38;5;28;43mself\u001b[39;49m\u001b[38;5;241;43m.\u001b[39;49m\u001b[43m_wrap_pool_connect\u001b[49m\u001b[43m(\u001b[49m\u001b[38;5;28;43mself\u001b[39;49m\u001b[38;5;241;43m.\u001b[39;49m\u001b[43mpool\u001b[49m\u001b[38;5;241;43m.\u001b[39;49m\u001b[43mconnect\u001b[49m\u001b[43m,\u001b[49m\u001b[43m \u001b[49m\u001b[43m_connection\u001b[49m\u001b[43m)\u001b[49m\n",
      "File \u001b[0;32m/usr/local/lib/python3.9/site-packages/sqlalchemy/engine/base.py:3259\u001b[0m, in \u001b[0;36mEngine._wrap_pool_connect\u001b[0;34m(self, fn, connection)\u001b[0m\n\u001b[1;32m   3257\u001b[0m \u001b[38;5;28;01mexcept\u001b[39;00m dialect\u001b[38;5;241m.\u001b[39mdbapi\u001b[38;5;241m.\u001b[39mError \u001b[38;5;28;01mas\u001b[39;00m e:\n\u001b[1;32m   3258\u001b[0m     \u001b[38;5;28;01mif\u001b[39;00m connection \u001b[38;5;129;01mis\u001b[39;00m \u001b[38;5;28;01mNone\u001b[39;00m:\n\u001b[0;32m-> 3259\u001b[0m         \u001b[43mConnection\u001b[49m\u001b[38;5;241;43m.\u001b[39;49m\u001b[43m_handle_dbapi_exception_noconnection\u001b[49m\u001b[43m(\u001b[49m\n\u001b[1;32m   3260\u001b[0m \u001b[43m            \u001b[49m\u001b[43me\u001b[49m\u001b[43m,\u001b[49m\u001b[43m \u001b[49m\u001b[43mdialect\u001b[49m\u001b[43m,\u001b[49m\u001b[43m \u001b[49m\u001b[38;5;28;43mself\u001b[39;49m\n\u001b[1;32m   3261\u001b[0m \u001b[43m        \u001b[49m\u001b[43m)\u001b[49m\n\u001b[1;32m   3262\u001b[0m     \u001b[38;5;28;01melse\u001b[39;00m:\n\u001b[1;32m   3263\u001b[0m         util\u001b[38;5;241m.\u001b[39mraise_(\n\u001b[1;32m   3264\u001b[0m             sys\u001b[38;5;241m.\u001b[39mexc_info()[\u001b[38;5;241m1\u001b[39m], with_traceback\u001b[38;5;241m=\u001b[39msys\u001b[38;5;241m.\u001b[39mexc_info()[\u001b[38;5;241m2\u001b[39m]\n\u001b[1;32m   3265\u001b[0m         )\n",
      "File \u001b[0;32m/usr/local/lib/python3.9/site-packages/sqlalchemy/engine/base.py:2106\u001b[0m, in \u001b[0;36mConnection._handle_dbapi_exception_noconnection\u001b[0;34m(cls, e, dialect, engine)\u001b[0m\n\u001b[1;32m   2104\u001b[0m     util\u001b[38;5;241m.\u001b[39mraise_(newraise, with_traceback\u001b[38;5;241m=\u001b[39mexc_info[\u001b[38;5;241m2\u001b[39m], from_\u001b[38;5;241m=\u001b[39me)\n\u001b[1;32m   2105\u001b[0m \u001b[38;5;28;01melif\u001b[39;00m should_wrap:\n\u001b[0;32m-> 2106\u001b[0m     \u001b[43mutil\u001b[49m\u001b[38;5;241;43m.\u001b[39;49m\u001b[43mraise_\u001b[49m\u001b[43m(\u001b[49m\n\u001b[1;32m   2107\u001b[0m \u001b[43m        \u001b[49m\u001b[43msqlalchemy_exception\u001b[49m\u001b[43m,\u001b[49m\u001b[43m \u001b[49m\u001b[43mwith_traceback\u001b[49m\u001b[38;5;241;43m=\u001b[39;49m\u001b[43mexc_info\u001b[49m\u001b[43m[\u001b[49m\u001b[38;5;241;43m2\u001b[39;49m\u001b[43m]\u001b[49m\u001b[43m,\u001b[49m\u001b[43m \u001b[49m\u001b[43mfrom_\u001b[49m\u001b[38;5;241;43m=\u001b[39;49m\u001b[43me\u001b[49m\n\u001b[1;32m   2108\u001b[0m \u001b[43m    \u001b[49m\u001b[43m)\u001b[49m\n\u001b[1;32m   2109\u001b[0m \u001b[38;5;28;01melse\u001b[39;00m:\n\u001b[1;32m   2110\u001b[0m     util\u001b[38;5;241m.\u001b[39mraise_(exc_info[\u001b[38;5;241m1\u001b[39m], with_traceback\u001b[38;5;241m=\u001b[39mexc_info[\u001b[38;5;241m2\u001b[39m])\n",
      "File \u001b[0;32m/usr/local/lib/python3.9/site-packages/sqlalchemy/util/compat.py:207\u001b[0m, in \u001b[0;36mraise_\u001b[0;34m(***failed resolving arguments***)\u001b[0m\n\u001b[1;32m    204\u001b[0m     exception\u001b[38;5;241m.\u001b[39m__cause__ \u001b[38;5;241m=\u001b[39m replace_context\n\u001b[1;32m    206\u001b[0m \u001b[38;5;28;01mtry\u001b[39;00m:\n\u001b[0;32m--> 207\u001b[0m     \u001b[38;5;28;01mraise\u001b[39;00m exception\n\u001b[1;32m    208\u001b[0m \u001b[38;5;28;01mfinally\u001b[39;00m:\n\u001b[1;32m    209\u001b[0m     \u001b[38;5;66;03m# credit to\u001b[39;00m\n\u001b[1;32m    210\u001b[0m     \u001b[38;5;66;03m# https://cosmicpercolator.com/2016/01/13/exception-leaks-in-python-2-and-3/\u001b[39;00m\n\u001b[1;32m    211\u001b[0m     \u001b[38;5;66;03m# as the __traceback__ object creates a cycle\u001b[39;00m\n\u001b[1;32m    212\u001b[0m     \u001b[38;5;28;01mdel\u001b[39;00m exception, replace_context, from_, with_traceback\n",
      "File \u001b[0;32m/usr/local/lib/python3.9/site-packages/sqlalchemy/engine/base.py:3256\u001b[0m, in \u001b[0;36mEngine._wrap_pool_connect\u001b[0;34m(self, fn, connection)\u001b[0m\n\u001b[1;32m   3254\u001b[0m dialect \u001b[38;5;241m=\u001b[39m \u001b[38;5;28mself\u001b[39m\u001b[38;5;241m.\u001b[39mdialect\n\u001b[1;32m   3255\u001b[0m \u001b[38;5;28;01mtry\u001b[39;00m:\n\u001b[0;32m-> 3256\u001b[0m     \u001b[38;5;28;01mreturn\u001b[39;00m \u001b[43mfn\u001b[49m\u001b[43m(\u001b[49m\u001b[43m)\u001b[49m\n\u001b[1;32m   3257\u001b[0m \u001b[38;5;28;01mexcept\u001b[39;00m dialect\u001b[38;5;241m.\u001b[39mdbapi\u001b[38;5;241m.\u001b[39mError \u001b[38;5;28;01mas\u001b[39;00m e:\n\u001b[1;32m   3258\u001b[0m     \u001b[38;5;28;01mif\u001b[39;00m connection \u001b[38;5;129;01mis\u001b[39;00m \u001b[38;5;28;01mNone\u001b[39;00m:\n",
      "File \u001b[0;32m/usr/local/lib/python3.9/site-packages/sqlalchemy/pool/base.py:310\u001b[0m, in \u001b[0;36mPool.connect\u001b[0;34m(self)\u001b[0m\n\u001b[1;32m    302\u001b[0m \u001b[38;5;28;01mdef\u001b[39;00m \u001b[38;5;21mconnect\u001b[39m(\u001b[38;5;28mself\u001b[39m):\n\u001b[1;32m    303\u001b[0m     \u001b[38;5;124;03m\"\"\"Return a DBAPI connection from the pool.\u001b[39;00m\n\u001b[1;32m    304\u001b[0m \n\u001b[1;32m    305\u001b[0m \u001b[38;5;124;03m    The connection is instrumented such that when its\u001b[39;00m\n\u001b[0;32m   (...)\u001b[0m\n\u001b[1;32m    308\u001b[0m \n\u001b[1;32m    309\u001b[0m \u001b[38;5;124;03m    \"\"\"\u001b[39;00m\n\u001b[0;32m--> 310\u001b[0m     \u001b[38;5;28;01mreturn\u001b[39;00m \u001b[43m_ConnectionFairy\u001b[49m\u001b[38;5;241;43m.\u001b[39;49m\u001b[43m_checkout\u001b[49m\u001b[43m(\u001b[49m\u001b[38;5;28;43mself\u001b[39;49m\u001b[43m)\u001b[49m\n",
      "File \u001b[0;32m/usr/local/lib/python3.9/site-packages/sqlalchemy/pool/base.py:868\u001b[0m, in \u001b[0;36m_ConnectionFairy._checkout\u001b[0;34m(cls, pool, threadconns, fairy)\u001b[0m\n\u001b[1;32m    865\u001b[0m \u001b[38;5;129m@classmethod\u001b[39m\n\u001b[1;32m    866\u001b[0m \u001b[38;5;28;01mdef\u001b[39;00m \u001b[38;5;21m_checkout\u001b[39m(\u001b[38;5;28mcls\u001b[39m, pool, threadconns\u001b[38;5;241m=\u001b[39m\u001b[38;5;28;01mNone\u001b[39;00m, fairy\u001b[38;5;241m=\u001b[39m\u001b[38;5;28;01mNone\u001b[39;00m):\n\u001b[1;32m    867\u001b[0m     \u001b[38;5;28;01mif\u001b[39;00m \u001b[38;5;129;01mnot\u001b[39;00m fairy:\n\u001b[0;32m--> 868\u001b[0m         fairy \u001b[38;5;241m=\u001b[39m \u001b[43m_ConnectionRecord\u001b[49m\u001b[38;5;241;43m.\u001b[39;49m\u001b[43mcheckout\u001b[49m\u001b[43m(\u001b[49m\u001b[43mpool\u001b[49m\u001b[43m)\u001b[49m\n\u001b[1;32m    870\u001b[0m         fairy\u001b[38;5;241m.\u001b[39m_pool \u001b[38;5;241m=\u001b[39m pool\n\u001b[1;32m    871\u001b[0m         fairy\u001b[38;5;241m.\u001b[39m_counter \u001b[38;5;241m=\u001b[39m \u001b[38;5;241m0\u001b[39m\n",
      "File \u001b[0;32m/usr/local/lib/python3.9/site-packages/sqlalchemy/pool/base.py:476\u001b[0m, in \u001b[0;36m_ConnectionRecord.checkout\u001b[0;34m(cls, pool)\u001b[0m\n\u001b[1;32m    474\u001b[0m \u001b[38;5;129m@classmethod\u001b[39m\n\u001b[1;32m    475\u001b[0m \u001b[38;5;28;01mdef\u001b[39;00m \u001b[38;5;21mcheckout\u001b[39m(\u001b[38;5;28mcls\u001b[39m, pool):\n\u001b[0;32m--> 476\u001b[0m     rec \u001b[38;5;241m=\u001b[39m \u001b[43mpool\u001b[49m\u001b[38;5;241;43m.\u001b[39;49m\u001b[43m_do_get\u001b[49m\u001b[43m(\u001b[49m\u001b[43m)\u001b[49m\n\u001b[1;32m    477\u001b[0m     \u001b[38;5;28;01mtry\u001b[39;00m:\n\u001b[1;32m    478\u001b[0m         dbapi_connection \u001b[38;5;241m=\u001b[39m rec\u001b[38;5;241m.\u001b[39mget_connection()\n",
      "File \u001b[0;32m/usr/local/lib/python3.9/site-packages/sqlalchemy/pool/impl.py:146\u001b[0m, in \u001b[0;36mQueuePool._do_get\u001b[0;34m(self)\u001b[0m\n\u001b[1;32m    144\u001b[0m     \u001b[38;5;28;01mexcept\u001b[39;00m:\n\u001b[1;32m    145\u001b[0m         \u001b[38;5;28;01mwith\u001b[39;00m util\u001b[38;5;241m.\u001b[39msafe_reraise():\n\u001b[0;32m--> 146\u001b[0m             \u001b[38;5;28mself\u001b[39m\u001b[38;5;241m.\u001b[39m_dec_overflow()\n\u001b[1;32m    147\u001b[0m \u001b[38;5;28;01melse\u001b[39;00m:\n\u001b[1;32m    148\u001b[0m     \u001b[38;5;28;01mreturn\u001b[39;00m \u001b[38;5;28mself\u001b[39m\u001b[38;5;241m.\u001b[39m_do_get()\n",
      "File \u001b[0;32m/usr/local/lib/python3.9/site-packages/sqlalchemy/util/langhelpers.py:70\u001b[0m, in \u001b[0;36msafe_reraise.__exit__\u001b[0;34m(self, type_, value, traceback)\u001b[0m\n\u001b[1;32m     68\u001b[0m     \u001b[38;5;28mself\u001b[39m\u001b[38;5;241m.\u001b[39m_exc_info \u001b[38;5;241m=\u001b[39m \u001b[38;5;28;01mNone\u001b[39;00m  \u001b[38;5;66;03m# remove potential circular references\u001b[39;00m\n\u001b[1;32m     69\u001b[0m     \u001b[38;5;28;01mif\u001b[39;00m \u001b[38;5;129;01mnot\u001b[39;00m \u001b[38;5;28mself\u001b[39m\u001b[38;5;241m.\u001b[39mwarn_only:\n\u001b[0;32m---> 70\u001b[0m         \u001b[43mcompat\u001b[49m\u001b[38;5;241;43m.\u001b[39;49m\u001b[43mraise_\u001b[49m\u001b[43m(\u001b[49m\n\u001b[1;32m     71\u001b[0m \u001b[43m            \u001b[49m\u001b[43mexc_value\u001b[49m\u001b[43m,\u001b[49m\n\u001b[1;32m     72\u001b[0m \u001b[43m            \u001b[49m\u001b[43mwith_traceback\u001b[49m\u001b[38;5;241;43m=\u001b[39;49m\u001b[43mexc_tb\u001b[49m\u001b[43m,\u001b[49m\n\u001b[1;32m     73\u001b[0m \u001b[43m        \u001b[49m\u001b[43m)\u001b[49m\n\u001b[1;32m     74\u001b[0m \u001b[38;5;28;01melse\u001b[39;00m:\n\u001b[1;32m     75\u001b[0m     \u001b[38;5;28;01mif\u001b[39;00m \u001b[38;5;129;01mnot\u001b[39;00m compat\u001b[38;5;241m.\u001b[39mpy3k \u001b[38;5;129;01mand\u001b[39;00m \u001b[38;5;28mself\u001b[39m\u001b[38;5;241m.\u001b[39m_exc_info \u001b[38;5;129;01mand\u001b[39;00m \u001b[38;5;28mself\u001b[39m\u001b[38;5;241m.\u001b[39m_exc_info[\u001b[38;5;241m1\u001b[39m]:\n\u001b[1;32m     76\u001b[0m         \u001b[38;5;66;03m# emulate Py3K's behavior of telling us when an exception\u001b[39;00m\n\u001b[1;32m     77\u001b[0m         \u001b[38;5;66;03m# occurs in an exception handler.\u001b[39;00m\n",
      "File \u001b[0;32m/usr/local/lib/python3.9/site-packages/sqlalchemy/util/compat.py:207\u001b[0m, in \u001b[0;36mraise_\u001b[0;34m(***failed resolving arguments***)\u001b[0m\n\u001b[1;32m    204\u001b[0m     exception\u001b[38;5;241m.\u001b[39m__cause__ \u001b[38;5;241m=\u001b[39m replace_context\n\u001b[1;32m    206\u001b[0m \u001b[38;5;28;01mtry\u001b[39;00m:\n\u001b[0;32m--> 207\u001b[0m     \u001b[38;5;28;01mraise\u001b[39;00m exception\n\u001b[1;32m    208\u001b[0m \u001b[38;5;28;01mfinally\u001b[39;00m:\n\u001b[1;32m    209\u001b[0m     \u001b[38;5;66;03m# credit to\u001b[39;00m\n\u001b[1;32m    210\u001b[0m     \u001b[38;5;66;03m# https://cosmicpercolator.com/2016/01/13/exception-leaks-in-python-2-and-3/\u001b[39;00m\n\u001b[1;32m    211\u001b[0m     \u001b[38;5;66;03m# as the __traceback__ object creates a cycle\u001b[39;00m\n\u001b[1;32m    212\u001b[0m     \u001b[38;5;28;01mdel\u001b[39;00m exception, replace_context, from_, with_traceback\n",
      "File \u001b[0;32m/usr/local/lib/python3.9/site-packages/sqlalchemy/pool/impl.py:143\u001b[0m, in \u001b[0;36mQueuePool._do_get\u001b[0;34m(self)\u001b[0m\n\u001b[1;32m    141\u001b[0m \u001b[38;5;28;01mif\u001b[39;00m \u001b[38;5;28mself\u001b[39m\u001b[38;5;241m.\u001b[39m_inc_overflow():\n\u001b[1;32m    142\u001b[0m     \u001b[38;5;28;01mtry\u001b[39;00m:\n\u001b[0;32m--> 143\u001b[0m         \u001b[38;5;28;01mreturn\u001b[39;00m \u001b[38;5;28;43mself\u001b[39;49m\u001b[38;5;241;43m.\u001b[39;49m\u001b[43m_create_connection\u001b[49m\u001b[43m(\u001b[49m\u001b[43m)\u001b[49m\n\u001b[1;32m    144\u001b[0m     \u001b[38;5;28;01mexcept\u001b[39;00m:\n\u001b[1;32m    145\u001b[0m         \u001b[38;5;28;01mwith\u001b[39;00m util\u001b[38;5;241m.\u001b[39msafe_reraise():\n",
      "File \u001b[0;32m/usr/local/lib/python3.9/site-packages/sqlalchemy/pool/base.py:256\u001b[0m, in \u001b[0;36mPool._create_connection\u001b[0;34m(self)\u001b[0m\n\u001b[1;32m    253\u001b[0m \u001b[38;5;28;01mdef\u001b[39;00m \u001b[38;5;21m_create_connection\u001b[39m(\u001b[38;5;28mself\u001b[39m):\n\u001b[1;32m    254\u001b[0m     \u001b[38;5;124;03m\"\"\"Called by subclasses to create a new ConnectionRecord.\"\"\"\u001b[39;00m\n\u001b[0;32m--> 256\u001b[0m     \u001b[38;5;28;01mreturn\u001b[39;00m \u001b[43m_ConnectionRecord\u001b[49m\u001b[43m(\u001b[49m\u001b[38;5;28;43mself\u001b[39;49m\u001b[43m)\u001b[49m\n",
      "File \u001b[0;32m/usr/local/lib/python3.9/site-packages/sqlalchemy/pool/base.py:371\u001b[0m, in \u001b[0;36m_ConnectionRecord.__init__\u001b[0;34m(self, pool, connect)\u001b[0m\n\u001b[1;32m    369\u001b[0m \u001b[38;5;28mself\u001b[39m\u001b[38;5;241m.\u001b[39m__pool \u001b[38;5;241m=\u001b[39m pool\n\u001b[1;32m    370\u001b[0m \u001b[38;5;28;01mif\u001b[39;00m connect:\n\u001b[0;32m--> 371\u001b[0m     \u001b[38;5;28;43mself\u001b[39;49m\u001b[38;5;241;43m.\u001b[39;49m\u001b[43m__connect\u001b[49m\u001b[43m(\u001b[49m\u001b[43m)\u001b[49m\n\u001b[1;32m    372\u001b[0m \u001b[38;5;28mself\u001b[39m\u001b[38;5;241m.\u001b[39mfinalize_callback \u001b[38;5;241m=\u001b[39m deque()\n",
      "File \u001b[0;32m/usr/local/lib/python3.9/site-packages/sqlalchemy/pool/base.py:666\u001b[0m, in \u001b[0;36m_ConnectionRecord.__connect\u001b[0;34m(self)\u001b[0m\n\u001b[1;32m    664\u001b[0m \u001b[38;5;28;01mexcept\u001b[39;00m \u001b[38;5;167;01mException\u001b[39;00m \u001b[38;5;28;01mas\u001b[39;00m e:\n\u001b[1;32m    665\u001b[0m     \u001b[38;5;28;01mwith\u001b[39;00m util\u001b[38;5;241m.\u001b[39msafe_reraise():\n\u001b[0;32m--> 666\u001b[0m         pool\u001b[38;5;241m.\u001b[39mlogger\u001b[38;5;241m.\u001b[39mdebug(\u001b[38;5;124m\"\u001b[39m\u001b[38;5;124mError on connect(): \u001b[39m\u001b[38;5;132;01m%s\u001b[39;00m\u001b[38;5;124m\"\u001b[39m, e)\n\u001b[1;32m    667\u001b[0m \u001b[38;5;28;01melse\u001b[39;00m:\n\u001b[1;32m    668\u001b[0m     \u001b[38;5;66;03m# in SQLAlchemy 1.4 the first_connect event is not used by\u001b[39;00m\n\u001b[1;32m    669\u001b[0m     \u001b[38;5;66;03m# the engine, so this will usually not be set\u001b[39;00m\n\u001b[1;32m    670\u001b[0m     \u001b[38;5;28;01mif\u001b[39;00m pool\u001b[38;5;241m.\u001b[39mdispatch\u001b[38;5;241m.\u001b[39mfirst_connect:\n",
      "File \u001b[0;32m/usr/local/lib/python3.9/site-packages/sqlalchemy/util/langhelpers.py:70\u001b[0m, in \u001b[0;36msafe_reraise.__exit__\u001b[0;34m(self, type_, value, traceback)\u001b[0m\n\u001b[1;32m     68\u001b[0m     \u001b[38;5;28mself\u001b[39m\u001b[38;5;241m.\u001b[39m_exc_info \u001b[38;5;241m=\u001b[39m \u001b[38;5;28;01mNone\u001b[39;00m  \u001b[38;5;66;03m# remove potential circular references\u001b[39;00m\n\u001b[1;32m     69\u001b[0m     \u001b[38;5;28;01mif\u001b[39;00m \u001b[38;5;129;01mnot\u001b[39;00m \u001b[38;5;28mself\u001b[39m\u001b[38;5;241m.\u001b[39mwarn_only:\n\u001b[0;32m---> 70\u001b[0m         \u001b[43mcompat\u001b[49m\u001b[38;5;241;43m.\u001b[39;49m\u001b[43mraise_\u001b[49m\u001b[43m(\u001b[49m\n\u001b[1;32m     71\u001b[0m \u001b[43m            \u001b[49m\u001b[43mexc_value\u001b[49m\u001b[43m,\u001b[49m\n\u001b[1;32m     72\u001b[0m \u001b[43m            \u001b[49m\u001b[43mwith_traceback\u001b[49m\u001b[38;5;241;43m=\u001b[39;49m\u001b[43mexc_tb\u001b[49m\u001b[43m,\u001b[49m\n\u001b[1;32m     73\u001b[0m \u001b[43m        \u001b[49m\u001b[43m)\u001b[49m\n\u001b[1;32m     74\u001b[0m \u001b[38;5;28;01melse\u001b[39;00m:\n\u001b[1;32m     75\u001b[0m     \u001b[38;5;28;01mif\u001b[39;00m \u001b[38;5;129;01mnot\u001b[39;00m compat\u001b[38;5;241m.\u001b[39mpy3k \u001b[38;5;129;01mand\u001b[39;00m \u001b[38;5;28mself\u001b[39m\u001b[38;5;241m.\u001b[39m_exc_info \u001b[38;5;129;01mand\u001b[39;00m \u001b[38;5;28mself\u001b[39m\u001b[38;5;241m.\u001b[39m_exc_info[\u001b[38;5;241m1\u001b[39m]:\n\u001b[1;32m     76\u001b[0m         \u001b[38;5;66;03m# emulate Py3K's behavior of telling us when an exception\u001b[39;00m\n\u001b[1;32m     77\u001b[0m         \u001b[38;5;66;03m# occurs in an exception handler.\u001b[39;00m\n",
      "File \u001b[0;32m/usr/local/lib/python3.9/site-packages/sqlalchemy/util/compat.py:207\u001b[0m, in \u001b[0;36mraise_\u001b[0;34m(***failed resolving arguments***)\u001b[0m\n\u001b[1;32m    204\u001b[0m     exception\u001b[38;5;241m.\u001b[39m__cause__ \u001b[38;5;241m=\u001b[39m replace_context\n\u001b[1;32m    206\u001b[0m \u001b[38;5;28;01mtry\u001b[39;00m:\n\u001b[0;32m--> 207\u001b[0m     \u001b[38;5;28;01mraise\u001b[39;00m exception\n\u001b[1;32m    208\u001b[0m \u001b[38;5;28;01mfinally\u001b[39;00m:\n\u001b[1;32m    209\u001b[0m     \u001b[38;5;66;03m# credit to\u001b[39;00m\n\u001b[1;32m    210\u001b[0m     \u001b[38;5;66;03m# https://cosmicpercolator.com/2016/01/13/exception-leaks-in-python-2-and-3/\u001b[39;00m\n\u001b[1;32m    211\u001b[0m     \u001b[38;5;66;03m# as the __traceback__ object creates a cycle\u001b[39;00m\n\u001b[1;32m    212\u001b[0m     \u001b[38;5;28;01mdel\u001b[39;00m exception, replace_context, from_, with_traceback\n",
      "File \u001b[0;32m/usr/local/lib/python3.9/site-packages/sqlalchemy/pool/base.py:661\u001b[0m, in \u001b[0;36m_ConnectionRecord.__connect\u001b[0;34m(self)\u001b[0m\n\u001b[1;32m    659\u001b[0m \u001b[38;5;28;01mtry\u001b[39;00m:\n\u001b[1;32m    660\u001b[0m     \u001b[38;5;28mself\u001b[39m\u001b[38;5;241m.\u001b[39mstarttime \u001b[38;5;241m=\u001b[39m time\u001b[38;5;241m.\u001b[39mtime()\n\u001b[0;32m--> 661\u001b[0m     \u001b[38;5;28mself\u001b[39m\u001b[38;5;241m.\u001b[39mdbapi_connection \u001b[38;5;241m=\u001b[39m connection \u001b[38;5;241m=\u001b[39m \u001b[43mpool\u001b[49m\u001b[38;5;241;43m.\u001b[39;49m\u001b[43m_invoke_creator\u001b[49m\u001b[43m(\u001b[49m\u001b[38;5;28;43mself\u001b[39;49m\u001b[43m)\u001b[49m\n\u001b[1;32m    662\u001b[0m     pool\u001b[38;5;241m.\u001b[39mlogger\u001b[38;5;241m.\u001b[39mdebug(\u001b[38;5;124m\"\u001b[39m\u001b[38;5;124mCreated new connection \u001b[39m\u001b[38;5;132;01m%r\u001b[39;00m\u001b[38;5;124m\"\u001b[39m, connection)\n\u001b[1;32m    663\u001b[0m     \u001b[38;5;28mself\u001b[39m\u001b[38;5;241m.\u001b[39mfresh \u001b[38;5;241m=\u001b[39m \u001b[38;5;28;01mTrue\u001b[39;00m\n",
      "File \u001b[0;32m/usr/local/lib/python3.9/site-packages/sqlalchemy/engine/create.py:590\u001b[0m, in \u001b[0;36mcreate_engine.<locals>.connect\u001b[0;34m(connection_record)\u001b[0m\n\u001b[1;32m    588\u001b[0m         \u001b[38;5;28;01mif\u001b[39;00m connection \u001b[38;5;129;01mis\u001b[39;00m \u001b[38;5;129;01mnot\u001b[39;00m \u001b[38;5;28;01mNone\u001b[39;00m:\n\u001b[1;32m    589\u001b[0m             \u001b[38;5;28;01mreturn\u001b[39;00m connection\n\u001b[0;32m--> 590\u001b[0m \u001b[38;5;28;01mreturn\u001b[39;00m \u001b[43mdialect\u001b[49m\u001b[38;5;241;43m.\u001b[39;49m\u001b[43mconnect\u001b[49m\u001b[43m(\u001b[49m\u001b[38;5;241;43m*\u001b[39;49m\u001b[43mcargs\u001b[49m\u001b[43m,\u001b[49m\u001b[43m \u001b[49m\u001b[38;5;241;43m*\u001b[39;49m\u001b[38;5;241;43m*\u001b[39;49m\u001b[43mcparams\u001b[49m\u001b[43m)\u001b[49m\n",
      "File \u001b[0;32m/usr/local/lib/python3.9/site-packages/sqlalchemy/engine/default.py:597\u001b[0m, in \u001b[0;36mDefaultDialect.connect\u001b[0;34m(self, *cargs, **cparams)\u001b[0m\n\u001b[1;32m    595\u001b[0m \u001b[38;5;28;01mdef\u001b[39;00m \u001b[38;5;21mconnect\u001b[39m(\u001b[38;5;28mself\u001b[39m, \u001b[38;5;241m*\u001b[39mcargs, \u001b[38;5;241m*\u001b[39m\u001b[38;5;241m*\u001b[39mcparams):\n\u001b[1;32m    596\u001b[0m     \u001b[38;5;66;03m# inherits the docstring from interfaces.Dialect.connect\u001b[39;00m\n\u001b[0;32m--> 597\u001b[0m     \u001b[38;5;28;01mreturn\u001b[39;00m \u001b[38;5;28;43mself\u001b[39;49m\u001b[38;5;241;43m.\u001b[39;49m\u001b[43mdbapi\u001b[49m\u001b[38;5;241;43m.\u001b[39;49m\u001b[43mconnect\u001b[49m\u001b[43m(\u001b[49m\u001b[38;5;241;43m*\u001b[39;49m\u001b[43mcargs\u001b[49m\u001b[43m,\u001b[49m\u001b[43m \u001b[49m\u001b[38;5;241;43m*\u001b[39;49m\u001b[38;5;241;43m*\u001b[39;49m\u001b[43mcparams\u001b[49m\u001b[43m)\u001b[49m\n",
      "File \u001b[0;32m/usr/local/lib/python3.9/site-packages/psycopg2/__init__.py:122\u001b[0m, in \u001b[0;36mconnect\u001b[0;34m(dsn, connection_factory, cursor_factory, **kwargs)\u001b[0m\n\u001b[1;32m    119\u001b[0m     kwasync[\u001b[38;5;124m'\u001b[39m\u001b[38;5;124masync_\u001b[39m\u001b[38;5;124m'\u001b[39m] \u001b[38;5;241m=\u001b[39m kwargs\u001b[38;5;241m.\u001b[39mpop(\u001b[38;5;124m'\u001b[39m\u001b[38;5;124masync_\u001b[39m\u001b[38;5;124m'\u001b[39m)\n\u001b[1;32m    121\u001b[0m dsn \u001b[38;5;241m=\u001b[39m _ext\u001b[38;5;241m.\u001b[39mmake_dsn(dsn, \u001b[38;5;241m*\u001b[39m\u001b[38;5;241m*\u001b[39mkwargs)\n\u001b[0;32m--> 122\u001b[0m conn \u001b[38;5;241m=\u001b[39m \u001b[43m_connect\u001b[49m\u001b[43m(\u001b[49m\u001b[43mdsn\u001b[49m\u001b[43m,\u001b[49m\u001b[43m \u001b[49m\u001b[43mconnection_factory\u001b[49m\u001b[38;5;241;43m=\u001b[39;49m\u001b[43mconnection_factory\u001b[49m\u001b[43m,\u001b[49m\u001b[43m \u001b[49m\u001b[38;5;241;43m*\u001b[39;49m\u001b[38;5;241;43m*\u001b[39;49m\u001b[43mkwasync\u001b[49m\u001b[43m)\u001b[49m\n\u001b[1;32m    123\u001b[0m \u001b[38;5;28;01mif\u001b[39;00m cursor_factory \u001b[38;5;129;01mis\u001b[39;00m \u001b[38;5;129;01mnot\u001b[39;00m \u001b[38;5;28;01mNone\u001b[39;00m:\n\u001b[1;32m    124\u001b[0m     conn\u001b[38;5;241m.\u001b[39mcursor_factory \u001b[38;5;241m=\u001b[39m cursor_factory\n",
      "\u001b[0;31mOperationalError\u001b[0m: (psycopg2.OperationalError) connection to server at \"192.168.0.118\", port 5432 failed: FATAL:  password authentication failed for user \"zach\"\nconnection to server at \"192.168.0.118\", port 5432 failed: FATAL:  password authentication failed for user \"zach\"\n\n(Background on this error at: https://sqlalche.me/e/14/e3q8)"
     ]
    }
   ],
   "source": [
    "# create a connection and read in pitchers data\n",
    "engine = get_sqlalchemy_engine()\n",
    "conn = engine.connect()"
   ]
  },
  {
   "cell_type": "markdown",
   "metadata": {},
   "source": [
    "## Get Player Data and Create Calculated Columns\n",
    "\n",
    "For each of the players, we calculate a z-score based on how they compare to the rest of the league. There are several columns that we want to do this for.\n",
    "\n",
    "- For each z-score, there is an arbitrary minimum set to inflate the league average away from non-full-time players.\n",
    "- After each is totaled, the z-scores are totaled and then z-scored again to make a single number. This is done so that we can compare pitchers and batters into the same chart."
   ]
  },
  {
   "cell_type": "code",
   "execution_count": null,
   "metadata": {},
   "outputs": [],
   "source": [
    "# read in information from postgres\n",
    "dfp = pd.read_sql(\n",
    "    \"select * from fantasy.pitchers_projections_depth_charts where ip > 0.0\", conn\n",
    ")\n",
    "dfb = pd.read_sql(\"select * from fantasy.batters_projections_depth_charts\", conn)\n",
    "dfe = pd.read_sql(\n",
    "    sqlalchemy.text(\n",
    "        \"\"\"\n",
    "        select\n",
    "            fullname as \"name\",\n",
    "            eligibility as \"elig\",\n",
    "            position as \"pos\",\n",
    "            case when position like '%P%' then 'p' else 'b' end as catg,\n",
    "            injurystatus as \"injured\",\n",
    "            averagedraftposition as \"espnAdp\",\n",
    "            draftrank as \"espnDraftRank\",\n",
    "            percentchange as \"espnAdpChng\",\n",
    "            percentowned as \"pctOwn\",\n",
    "            percentstarted as \"pctStart\",\n",
    "            auctionValue as \"espnAuctionValue\",\n",
    "            proteamid as \"proTeamId\", -- just for the join\n",
    "            espn_id as \"espnId\"\n",
    "        from fantasy.players\n",
    "    \"\"\"\n",
    "    ),\n",
    "    conn,\n",
    ")\n",
    "dfpl = pd.read_sql(\n",
    "    sqlalchemy.text(\n",
    "        \"\"\"\n",
    "        select\n",
    "            name,\n",
    "            rank as \"pListRank\",\n",
    "            tier as \"pListTier\"\n",
    "        from fantasy.pitchers_pitcherlist_100\n",
    "    \"\"\"\n",
    "    ),\n",
    "    conn,\n",
    ")"
   ]
  },
  {
   "cell_type": "code",
   "execution_count": null,
   "metadata": {
    "scrolled": false
   },
   "outputs": [],
   "source": [
    "# create any calculated columns necessary\n",
    "# the calculation for runs created is the simplest of the ones i investigated last year:\n",
    "# https://zmsy.co/blog/reverse-engineering-espn/#calculating-using-existing-rc-formulas\n",
    "# RC = ((Hits + Walks) x Total Bases) ÷ (At Bats + Walks)\n",
    "dfb[\"tb\"] = ((dfb[\"h\"] - dfb[\"2b\"] - dfb[\"3b\"] - dfb[\"hr\"]) + (dfb[\"2b\"] * 2) + (dfb[\"3b\"] * 3) + (dfb[\"hr\"] * 4))\n",
    "dfb[\"rc\"] = (((dfb[\"h\"] + dfb[\"bb\"]) * dfb[\"tb\"]) / dfb[\"pa\"]).round(2)\n",
    "dfb[\"catg\"] = \"b\"\n",
    "\n",
    "# quality starts metric from here:\n",
    "# https://yourfantasyjoe.blogspot.com/2010/02/projecting-quality-starts.html\n",
    "# xQS = GS * (.4650115 - (ERA * .0872381) + ((IP/GS) * .0746775))\n",
    "dfp[\"qs\"] = (\n",
    "    dfp[\"gs\"]\n",
    "    * (0.4650115 - (dfp[\"era\"] * 0.0872381) + ((dfp[\"ip\"] / dfp[\"gs\"]) * 0.0746775))\n",
    ").round(2)\n",
    "dfp.fillna(value={\"qs\": 0.0}, inplace=True)\n",
    "dfp[\"catg\"] = \"p\"\n",
    "\n",
    "print()  # prevent df from printing"
   ]
  },
  {
   "cell_type": "markdown",
   "metadata": {},
   "source": [
    "### Replace Player Names with Canonical ESPN Names\n",
    "\n",
    "Multiple inputs have different spellings or variations on player names. The ESPN ones are considered gospel for this analysis."
   ]
  },
  {
   "cell_type": "code",
   "execution_count": null,
   "metadata": {},
   "outputs": [],
   "source": [
    "# source name -> espn name\n",
    "name_replacements = {\n",
    "    \"Adolis García\": \"Adolis Garcia\",\n",
    "    \"Alex Colomé\": \"Alex Colome\",\n",
    "    \"Alexis Díaz\": \"Alexis Diaz\",\n",
    "    \"Andrés Giménez\": \"Andres Gimenez\",\n",
    "    \"Andrés Muñoz\": \"Andres Munoz\",\n",
    "    \"Andy Ibáñez\": \"Andy Ibanez\",\n",
    "    \"Avisaíl García\": \"Avisail Garcia\",\n",
    "    \"Carlos Hernández\": \"Carlos Hernandez\",\n",
    "    \"Carlos Rodón\": \"Carlos Rodon\",\n",
    "    \"César Hernández\": \"Cesar Hernandez\",\n",
    "    \"Christian Vázquez\": \"Christian Vazquez\",\n",
    "    \"Domingo Germán\": \"Domingo German\",\n",
    "    \"Eduardo Rodríguez\": \"Eduardo Rodriguez\",\n",
    "    \"Edwin O Díaz\": \"Edwin Diaz\",\n",
    "    \"Elias Díaz\": \"Elias Diaz\",\n",
    "    \"Eloy Jiménez\": \"Eloy Jimenez\",\n",
    "    \"Enrique Hernández\": \"Enrique Hernandez\",\n",
    "    \"Eugenio Suárez\": \"Eugenio Suarez\",\n",
    "    \"Félix Bautista\": \"Felix Bautista\",\n",
    "    \"Francisco Álvarez\": \"Francisco Alvarez\",\n",
    "    \"Gary Sánchez\": \"Gary Sanchez\",\n",
    "    \"Génesis Cabrera\": \"Genesis Cabrera\",\n",
    "    \"Germán Márquez\": \"German Marquez\",\n",
    "    \"Harold Ramírez\": \"Harold Ramirez\",\n",
    "    \"Héctor Neris\": \"Hector Neris\",\n",
    "    \"Jarlín García\": \"Jarlin Garcia\",\n",
    "    \"Javier Báez\": \"Javier Baez\",\n",
    "    \"Jeremy Peña\": \"Jeremy Pena\",\n",
    "    \"Jesús Aguilar\": \"Jesus Aguilar\",\n",
    "    \"Jesús Luzardo\": \"Jesus Luzardo\",\n",
    "    \"Jesús Sánchez\": \"Jesus Sanchez\",\n",
    "    \"Jonathan Loáisiga\": \"Jonathan Loaisiga\",\n",
    "    \"Jorge López\": \"Jorge Lopez\",\n",
    "    \"José Abreu\": \"Jose Abreu\",\n",
    "    \"José Alvarado\": \"Jose Alvarado\",\n",
    "    \"José Berríos\": \"Jose Berrios\",\n",
    "    \"José Cisnero\": \"Jose Cisnero\",\n",
    "    \"José Iglesias\": \"Jose Iglesias\",\n",
    "    \"José Leclerc\": \"Jose Leclerc\",\n",
    "    \"José Quintana\": \"Jose Quintana\",\n",
    "    \"José Ramírez\": \"Jose Ramirez\",\n",
    "    \"José Ruiz\": \"Jose Ruiz\",\n",
    "    \"José Suarez\": \"Jose Suarez\",\n",
    "    \"José Urquidy\": \"Jose Urquidy\",\n",
    "    \"Julio Rodríguez\": \"Julio Rodriguez\",\n",
    "    \"Julio Urías\": \"Julio Urias\",\n",
    "    \"Luis Patiño\": \"Luis Patino\",\n",
    "    \"Luis Urías\": \"Luis Urias\",\n",
    "    \"Luis Robert Jr.\": \"Luis Robert\",\n",
    "    \"Manny Piña\": \"Manny Pina\",\n",
    "    \"Martín Pérez\": \"Martin Perez\",\n",
    "    \"Michael Conforto\": \"Michael Conforto\",\n",
    "    \"Michael Soroka\": \"Mike Soroka\",\n",
    "    \"Miguel Sanó\": \"Miguel Sano\",\n",
    "    \"Noé Ramirez\": \"Noe Ramirez\",\n",
    "    \"Odúbel Herrera\": \"Odubel Herrera\",\n",
    "    \"Omar Narváez\": \"Omar Narvaez\",\n",
    "    \"Pablo López\": \"Pablo Lopez\",\n",
    "    \"Ramón Laureano\": \"Ramon Laureano\",\n",
    "    \"Ramón Urías\": \"Ramon Urias\",\n",
    "    \"Ranger Suárez\": \"Ranger Suarez\",\n",
    "    \"Reynaldo López\": \"Reynaldo Lopez\",\n",
    "    \"Robinson Canó\": \"Robinson Cano\",\n",
    "    \"Ronald Acuña Jr.\": \"Ronald Acuna Jr.\",\n",
    "    \"Seranthony Domínguez\": \"Seranthony Dominguez\",\n",
    "    \"Sixto Sánchez\": \"Sixto Sanchez\",\n",
    "    \"Teoscar Hernández\": \"Teoscar Hernandez\",\n",
    "    \"Vidal Bruján\": \"Vidal Brujan\",\n",
    "    \"Yandy Díaz\": \"Yandy Diaz\",\n",
    "    \"Yimi García\": \"Yimi Garcia\",\n",
    "    \"Yoán Moncada\": \"Yoan Moncada\",\n",
    "    \"Yusmeiro Petit\": \"Yusmeiro Petit\",\n",
    "}\n",
    "\n",
    "\n",
    "def replace_names(name):\n",
    "    \"\"\"\n",
    "    If a name is in the name_replacements list, get it. Otherwise return the rows name.\n",
    "    \"\"\"\n",
    "    return name_replacements.get(name, name)\n",
    "\n",
    "\n",
    "# replace all names in all dataframes\n",
    "for df in [dfb, dfp, dfe, dfpl]:\n",
    "    df[\"name\"] = df[\"name\"].apply(lambda x: replace_names(x))"
   ]
  },
  {
   "cell_type": "markdown",
   "metadata": {},
   "source": [
    "## Calculate Z-Scores\n",
    "\n",
    "The \"thresholds\" you see below are used to calculate the z-scores of any particular player based on players who are likely full time players. This is to avoid the long-tail of replacement-level players skewing the average lower.\n",
    "\n",
    "`min_pa`-type vectors are created below to use as filters for the individual dataframes for batter/pitcher."
   ]
  },
  {
   "cell_type": "code",
   "execution_count": null,
   "metadata": {},
   "outputs": [],
   "source": [
    "# thresholds for batters and pitchers\n",
    "MINIMUM_INNINGS_PITCHED = 100\n",
    "MINIMUM_INNINGS_PITCHED_ACTUALS = 20.0\n",
    "MINIMUM_PLATE_APPEARANCES = 180\n",
    "MINIMUM_PLATE_APPEARANCES_ACTUALS = 120\n",
    "\n",
    "# filter columns\n",
    "min_pa = dfb[\"pa\"] > MINIMUM_PLATE_APPEARANCES\n",
    "min_ip = dfp[\"ip\"] > MINIMUM_INNINGS_PITCHED\n",
    "\n",
    "# dict of columns that we want to calculate z-scores for\n",
    "# +1 means more is better, -1 means negative is better\n",
    "dfb_score_cols = {\n",
    "    \"pa\": {\"dir\": 1, \"weight\": 1.25},\n",
    "    \"k_pct\": {\"dir\": -1, \"weight\": 0.9},\n",
    "    \"hr\": {\"dir\": 1, \"weight\": 1.015},\n",
    "    \"rc\": {\"dir\": 1, \"weight\": 1.35},\n",
    "    \"woba\": {\"dir\": 1, \"weight\": 1.325},\n",
    "    \"slg\": {\"dir\": 1, \"weight\": 1.0},\n",
    "    \"adp\": {\"dir\": -1, \"weight\": 0.3},\n",
    "}\n",
    "dfp_score_cols = {\n",
    "    \"ip\": {\"dir\": 1, \"weight\": 1.2625},\n",
    "    \"era\": {\"dir\": -1, \"weight\": 1.0},\n",
    "    \"hr\": {\"dir\": -1, \"weight\": 0.95},\n",
    "    \"so\": {\"dir\": 1, \"weight\": 1.05},\n",
    "    \"whip\": {\"dir\": -1, \"weight\": 1.3},\n",
    "    \"k_per_9\": {\"dir\": 1, \"weight\": 1.3},\n",
    "    \"qs\": {\"dir\": 1, \"weight\": 1.05},\n",
    "    \"gs\": {\"dir\": 1, \"weight\": 0.25},\n",
    "}\n",
    "\n",
    "dfb_weight = 1.0\n",
    "dfp_weight = 0.85\n",
    "\n",
    "# get all of the score columns for maximum z-scoring\n",
    "dfb_score_col_names = [x + \"_score\" for x in dfb_score_cols.keys()]\n",
    "dfp_score_col_names = [x + \"_score\" for x in dfp_score_cols.keys()]"
   ]
  },
  {
   "cell_type": "markdown",
   "metadata": {},
   "source": [
    "### Calculate Scores and Totals\n",
    "\n",
    "Totals are used for quickly ranking players across the different P / B groups."
   ]
  },
  {
   "cell_type": "code",
   "execution_count": null,
   "metadata": {},
   "outputs": [],
   "source": [
    "# only mean and stdev are filtered by minimums, so that way the player's actual\n",
    "# projections are still counted normally.\n",
    "\n",
    "# batter scores\n",
    "for col in dfb_score_cols.keys():\n",
    "    col_score = col + \"_score\"\n",
    "    dfb[col_score] = (\n",
    "        (dfb[col] - dfb[col][min_pa].mean())\n",
    "        / dfb[col][min_pa].std(ddof=0)\n",
    "        * dfb_score_cols[col][\"dir\"]\n",
    "        * dfb_score_cols[col][\"weight\"]\n",
    "    ).round(3)\n",
    "\n",
    "# pitcher scores\n",
    "for col in dfp_score_cols.keys():\n",
    "    col_score = col + \"_score\"\n",
    "    dfp[col_score] = (\n",
    "        (dfp[col] - dfp[col][min_ip].mean())\n",
    "        / dfp[col][min_ip].std(ddof=0)\n",
    "        * dfp_score_cols[col][\"dir\"]\n",
    "        * dfp_score_cols[col][\"weight\"]\n",
    "    ).round(3)"
   ]
  },
  {
   "cell_type": "code",
   "execution_count": null,
   "metadata": {},
   "outputs": [],
   "source": [
    "# sum all of the values into 'total_score'\n",
    "dfb[\"total_score\"] = dfb[dfb_score_col_names].sum(axis=1)\n",
    "dfb[\"total_z_score\"] = (dfb[\"total_score\"] - dfb[\"total_score\"][min_pa].mean()) / dfb[\n",
    "    \"total_score\"\n",
    "][min_pa].std(ddof=0)\n",
    "dfb[\"total_z_score_rank\"] = dfb[\"total_z_score\"].rank(ascending=False)\n",
    "dfb[\"total_z_score\"] = dfb.total_z_score.round(3) * dfb_weight\n",
    "\n",
    "dfp[\"total_score\"] = dfp[dfp_score_col_names].sum(axis=1)\n",
    "dfp[\"total_z_score\"] = (dfp[\"total_score\"] - dfp[\"total_score\"][min_ip].mean()) / dfp[\n",
    "    \"total_score\"\n",
    "][min_ip].std(ddof=0)\n",
    "dfp[\"total_z_score_rank\"] = dfp[\"total_z_score\"].rank(ascending=False)\n",
    "dfp[\"total_z_score\"] = dfp.total_z_score.round(3) * dfp_weight\n",
    "\n",
    "# sort by score descending\n",
    "dfb.sort_values(by=\"total_z_score_rank\", inplace=True)\n",
    "dfp.sort_values(by=\"total_z_score_rank\", inplace=True)"
   ]
  },
  {
   "cell_type": "markdown",
   "metadata": {},
   "source": [
    "### Inflate League Mean\n",
    "\n",
    "For the majority of the z-scores that we're taking, the actual values of them are affected by the long-tail of players who don't get much playing time. To offset this, the mean is artifically placed at halfway through our number of drafted players to account for the fact that will be replacement level for our league."
   ]
  },
  {
   "cell_type": "code",
   "execution_count": null,
   "metadata": {},
   "outputs": [],
   "source": [
    "# decrement scores by the mean of all drafted positions\n",
    "NUM_TEAMS = 12\n",
    "NUM_BATTERS = 15\n",
    "NUM_PITCHERS = 10\n",
    "\n",
    "MIDDLE_BATTER_INDEX = int((NUM_TEAMS * NUM_BATTERS) / 2)\n",
    "MIDDLE_PITCHER_INDEX = int((NUM_TEAMS * NUM_PITCHERS) / 2)\n",
    "\n",
    "middle_batter_score = dfb[dfb[\"total_z_score_rank\"] == MIDDLE_BATTER_INDEX][\n",
    "    \"total_z_score\"\n",
    "]\n",
    "dfb[\"total_z_score\"] = dfb[\"total_z_score\"] - float(middle_batter_score)\n",
    "dfb.reset_index(drop=True)\n",
    "\n",
    "middle_pitcher_score = dfp[dfp[\"total_z_score_rank\"] == MIDDLE_PITCHER_INDEX][\n",
    "    \"total_z_score\"\n",
    "]\n",
    "dfp[\"total_z_score\"] = dfp[\"total_z_score\"] - float(middle_pitcher_score)\n",
    "dfp.reset_index(drop=True)\n",
    "\n",
    "print()  # prevent df from printing"
   ]
  },
  {
   "cell_type": "markdown",
   "metadata": {},
   "source": [
    "## Write to the Database\n",
    "\n",
    "Prior to writing the excel files, write back to the database for safekeeping."
   ]
  },
  {
   "cell_type": "code",
   "execution_count": null,
   "metadata": {},
   "outputs": [],
   "source": [
    "dfb.to_sql(\"batters_scores\", conn, schema=\"fantasy\", if_exists=\"replace\")\n",
    "result = conn.execute(\"grant select on fantasy.batters_scores to public\")\n",
    "\n",
    "dfp.to_sql(\"pitchers_scores\", conn, schema=\"fantasy\", if_exists=\"replace\")\n",
    "result = conn.execute(\"grant select on fantasy.pitchers_scores to public\")"
   ]
  },
  {
   "cell_type": "markdown",
   "metadata": {},
   "source": [
    "## Create Draft Sheet\n",
    "\n",
    "This sheet includes a number of important pieces of information for drafting specifically, so that players can look up by eligibility as well as important stats.\n",
    "\n",
    "- Name\n",
    "- Eligibility\n",
    "- Positions\n",
    "- Combined scores"
   ]
  },
  {
   "cell_type": "code",
   "execution_count": null,
   "metadata": {},
   "outputs": [],
   "source": [
    "# name and espnteamid are the join columns\n",
    "cols = [\"name\", \"espnteamid\", \"total_z_score\"]\n",
    "df = (\n",
    "    pd.concat([dfb[cols], dfp[cols]])\n",
    "    .groupby(by=[\"name\", \"espnteamid\"])\n",
    "    .sum() # sum them to deal with shohei breaking all assumptions\n",
    "    .reset_index()\n",
    "    .sort_values(by=\"total_z_score\", ascending=False)\n",
    ")\n",
    "df.rename(columns={\"total_z_score\": \"score\"}, inplace=True)\n",
    "\n",
    "# merge in ESPN player data\n",
    "dfy = pd.merge(dfe, df, left_on=[\"name\", \"proTeamId\"], right_on=[\"name\", \"espnteamid\"], how=\"left\")\n",
    "dfd = pd.merge(dfy, dfpl, on=\"name\", how=\"left\")\n",
    "\n",
    "# fill in missing type values, need to adjust names later\n",
    "dfd[\"elig\"] = dfd[\"elig\"].astype(\"str\").replace(to_replace=\"nan\", value=\"\")\n",
    "dfd[\"pos\"] = dfd[\"pos\"].astype(\"str\").replace(to_replace=\"nan\", value=\"\")\n",
    "\n",
    "# nix any missing rows at this point\n",
    "# dfd.dropna(inplace=True)"
   ]
  },
  {
   "cell_type": "markdown",
   "metadata": {},
   "source": [
    "## Create Positional Scarcity Metrics\n",
    "\n",
    "Players are grouped into the _most scarce_ position that they're eligible for. Scarcity is defined as number of players above replacement value. This creates a map of all positions and the number of players above replacement, and then uses that to group players to which they should be in."
   ]
  },
  {
   "cell_type": "code",
   "execution_count": null,
   "metadata": {},
   "outputs": [],
   "source": [
    "# create a map of positional scarcity\n",
    "eligibility = {}\n",
    "for index, player in dfd.iterrows():\n",
    "    # add all positions to the dict if not yet\n",
    "    for pos in player[\"elig\"].split(\"|\"):\n",
    "        if pos not in eligibility:\n",
    "            eligibility[pos] = 0\n",
    "\n",
    "        if player[\"score\"] >= 0.0:\n",
    "            eligibility[pos] += 1\n",
    "\n",
    "\n",
    "def get_scarcest_eligibility(x):\n",
    "    \"\"\"\n",
    "    Loops through a player's eligibility and puts them in the category that has the least\n",
    "    number of players that are above replacement level. Arbitrarily set max value unreachably\n",
    "    high to start so that any eligibility validates.\n",
    "    \"\"\"\n",
    "    best = \"\"\n",
    "    best_num = 1000000000\n",
    "    for pos in x.split(\"|\"):\n",
    "        pos_num = eligibility[pos]\n",
    "        if pos_num < best_num:\n",
    "            best = pos\n",
    "            best_num = pos_num\n",
    "    return best\n",
    "\n",
    "\n",
    "# get the shallowest position that any player is eligible for, as well\n",
    "# as their primary position (first in the list, generally)\n",
    "dfd[\"shallowestPos\"] = dfd[\"elig\"].apply(lambda x: get_scarcest_eligibility(x))\n",
    "dfd[\"shallowestPosRank\"] = dfd.groupby(\"shallowestPos\")[\"score\"].rank(\n",
    "    \"dense\", ascending=False\n",
    ")\n",
    "dfd[\"primaryPos\"] = dfd[\"pos\"].apply(lambda x: x.split(\"|\")[0])\n",
    "dfd[\"primaryPosRank\"] = dfd.groupby(\"primaryPos\")[\"score\"].rank(\n",
    "    \"dense\", ascending=False\n",
    ")\n",
    "dfd[\"catgRank\"] = dfd.groupby(\"catg\")[\"score\"].rank(\"dense\", ascending=False)\n",
    "dfd[\"rank\"] = dfd[\"score\"].rank(ascending=False, method=\"first\", na_option=\"bottom\")"
   ]
  },
  {
   "cell_type": "markdown",
   "metadata": {},
   "source": [
    "## Style Output\n",
    "\n",
    "In order to make the outputs more usable, apply a number of color stylings and ranking scale sliders to the actual xlsx file."
   ]
  },
  {
   "cell_type": "code",
   "execution_count": null,
   "metadata": {},
   "outputs": [],
   "source": [
    "dfd = dfd[\n",
    "    [\n",
    "        \"rank\",\n",
    "        \"name\",\n",
    "        \"elig\",\n",
    "        \"pos\",\n",
    "        \"injured\",\n",
    "        \"score\",\n",
    "        \"espnAdp\",\n",
    "        \"espnAdpChng\",\n",
    "        \"espnAuctionValue\",\n",
    "        \"espnId\",\n",
    "        \"pctOwn\",\n",
    "        \"pctStart\",\n",
    "        \"catg\",\n",
    "        \"pListRank\",\n",
    "        \"pListTier\",\n",
    "        \"primaryPos\"\n",
    "    ]\n",
    "]\n",
    "\n",
    "dfd = dfd.rename(\n",
    "    columns={\n",
    "        \"espnAdp\": \"adp\",\n",
    "        \"espnAuctionValue\": \"auctionValue\",\n",
    "        \"espnAdpChng\": \"adp7DayChg\",\n",
    "    }\n",
    ")"
   ]
  },
  {
   "cell_type": "markdown",
   "metadata": {},
   "source": [
    "## Write Excel files for distribution"
   ]
  },
  {
   "cell_type": "code",
   "execution_count": null,
   "metadata": {},
   "outputs": [],
   "source": [
    "today = datetime.now().strftime(\"%Y_%m_%d\")\n",
    "with pd.ExcelWriter(f\"fantasy_draft_sheet_{today}.xlsx\") as writer:\n",
    "    dfb.to_excel(writer, sheet_name=\"batters\")\n",
    "    dfp.to_excel(writer, sheet_name=\"pitchers\")\n",
    "    dfd.to_excel(writer, sheet_name=\"draft_sheet\")"
   ]
  },
  {
   "cell_type": "markdown",
   "metadata": {},
   "source": [
    "## Draft Sheet Preview\n",
    "\n",
    "This is a quick look at how the players are going to appear in the final draft sheet. Useful for comparing overall pitcher v batter weights (i.e. verify that nobody should be ranked higher than trout)."
   ]
  },
  {
   "cell_type": "code",
   "execution_count": null,
   "metadata": {},
   "outputs": [],
   "source": [
    "dfd.sort_values(by=\"score\", ascending=False).head(150)"
   ]
  },
  {
   "cell_type": "code",
   "execution_count": null,
   "metadata": {},
   "outputs": [],
   "source": [
    "# check for any players where the stats are missing (likely due to bad join on name/team)\n",
    "dfd[dfd['score'].isna()].head(50)"
   ]
  },
  {
   "cell_type": "markdown",
   "metadata": {},
   "source": [
    "# Visualizations\n",
    "\n",
    "Here are a number of helpful visualizations to sort out the information from the draft sheet."
   ]
  },
  {
   "cell_type": "markdown",
   "metadata": {},
   "source": [
    "### ESPN Average Draft Pos vs. this Draft Sheet Ranking\n",
    "\n",
    "Here's how players stack up against how they're being drafted on ESPN right now"
   ]
  },
  {
   "cell_type": "code",
   "execution_count": null,
   "metadata": {
    "scrolled": true
   },
   "outputs": [],
   "source": [
    "sb.lmplot(\n",
    "    x=\"adp\",\n",
    "    y=\"score\",\n",
    "    hue=\"primaryPos\",\n",
    "    fit_reg=False,\n",
    "    data=dfd.sort_values(by=\"score\", ascending=False).head(200),\n",
    ")"
   ]
  },
  {
   "cell_type": "markdown",
   "metadata": {},
   "source": [
    "### Scores by Position\n",
    "\n",
    "Looks at the different positions and how many players there are above replacement level at each."
   ]
  },
  {
   "cell_type": "code",
   "execution_count": null,
   "metadata": {
    "scrolled": true
   },
   "outputs": [],
   "source": [
    "sb.swarmplot(data=dfd[dfd[\"rank\"] <= 200], x=\"score\", y=\"primaryPos\", orient=\"h\")"
   ]
  },
  {
   "cell_type": "markdown",
   "metadata": {},
   "source": [
    "### Pitcher Score vs PitcherList Tier\n",
    "\n",
    "PitcherList rankings are some of the most predictive on the internet, "
   ]
  },
  {
   "cell_type": "code",
   "execution_count": null,
   "metadata": {},
   "outputs": [],
   "source": [
    "sb.lmplot(\n",
    "    x=\"adp\",\n",
    "    y=\"score\",\n",
    "    hue=\"pListTier\",\n",
    "    fit_reg=False,\n",
    "    data=dfd[dfd[\"pListTier\"].notnull()].sort_values(by=\"score\", ascending=False),\n",
    ")"
   ]
  }
 ],
 "metadata": {
  "kernelspec": {
   "display_name": "Python 3 (ipykernel)",
   "language": "python",
   "name": "python3"
  },
  "language_info": {
   "codemirror_mode": {
    "name": "ipython",
    "version": 3
   },
   "file_extension": ".py",
   "mimetype": "text/x-python",
   "name": "python",
   "nbconvert_exporter": "python",
   "pygments_lexer": "ipython3",
   "version": "3.9.10"
  }
 },
 "nbformat": 4,
 "nbformat_minor": 2
}
