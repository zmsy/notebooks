{
 "cells": [
  {
   "cell_type": "markdown",
   "metadata": {},
   "source": [
    "# Calculate Z-scores for players\n",
    "\n",
    "This takes the list of players that we're trying to calculate scores for, and creates z-scores for players with an arbitrarily chosen minimum innings (for pitchers) or plate appearances (for hitters).\n",
    "\n",
    "Notes for this year's sheet:\n",
    "\n",
    "- Z-score avg/stdev calculated using minimum IP (70) or PA (35) stats for batting and pitching.\n",
    "- Reliever value was artificially decremented as usual since they're normally over-inflated value-wise. Multiplied by (project innings) / (90th pctile of projected innings), capped at 1.0."
   ]
  },
  {
   "cell_type": "code",
   "execution_count": null,
   "metadata": {},
   "outputs": [],
   "source": [
    "import pandas as pd\n",
    "import numpy as np\n",
    "import os\n",
    "import sqlalchemy\n",
    "import psycopg2\n",
    "import seaborn as sb\n",
    "import requests\n",
    "import qgrid\n",
    "\n"
   ]
  },
  {
   "cell_type": "code",
   "execution_count": null,
   "metadata": {},
   "outputs": [],
   "source": [
    "# set global options\n",
    "# qgrid display options\n",
    "qgrid.set_defaults(\n",
    "    show_toolbar=False,\n",
    "    grid_options={\n",
    "        \"forceFitColumns\": False,\n",
    "#         \"fullWidthRows\": False,\n",
    "        \"editable\": False,\n",
    "    }\n",
    ")\n",
    "qgrid.enable()"
   ]
  },
  {
   "cell_type": "markdown",
   "metadata": {},
   "source": [
    "## SqlAlchemy Connection Information\n",
    "\n",
    "These are used to get and return a connection to the postgres DB so that we can query for player stats and write them back to the table."
   ]
  },
  {
   "cell_type": "code",
   "execution_count": null,
   "metadata": {},
   "outputs": [],
   "source": [
    "# connection information for the database\n",
    "POSTGRES_USER = os.environ.get(\"POSTGRES_USER\")\n",
    "POSTGRES_PASSWORD = os.environ.get(\"POSTGRES_PASSWORD\")\n",
    "POSTGRES_IP = \"192.168.0.118\"\n",
    "POSTGRES_PORT = 5432\n",
    "POSTGRES_DB = \"postgres\"\n",
    "\n",
    "def get_sqlalchemy_engine():\n",
    "    \"\"\"\n",
    "    Create and return a SQLAlchemy engine for inserting into postgres.\n",
    "    \"\"\"\n",
    "    # ## Write Information Back to Database\n",
    "    #\n",
    "    return sqlalchemy.create_engine(\n",
    "        \"postgres://{user}:{password}@{host}:{port}/{db}\".format(\n",
    "            user=POSTGRES_USER,\n",
    "            password=POSTGRES_PASSWORD,\n",
    "            host=POSTGRES_IP,\n",
    "            port=POSTGRES_PORT,\n",
    "            db=POSTGRES_DB,\n",
    "        )\n",
    "    )"
   ]
  },
  {
   "cell_type": "code",
   "execution_count": null,
   "metadata": {},
   "outputs": [],
   "source": [
    "# create a connection and read in pitchers data\n",
    "engine = get_sqlalchemy_engine()\n",
    "conn = engine.connect()"
   ]
  },
  {
   "cell_type": "markdown",
   "metadata": {},
   "source": [
    "## Calculate Z-Scores\n",
    "\n",
    "For each of the players, we calculate a z-score based on how they compare to the rest of the league. There are several columns that we want to do this for.\n",
    "\n",
    "- For each z-score, there is an arbitrary minimum set to inflate the league average away from non-full-time players.\n",
    "- After each is totaled, the z-scores are totaled and then z-scored again to make a single number. This is done so that we can compare pitchers and batters into the same chart."
   ]
  },
  {
   "cell_type": "code",
   "execution_count": null,
   "metadata": {},
   "outputs": [],
   "source": [
    "# read in information from postgres\n",
    "dfp = pd.read_sql(\"select * from fantasy.pitchers_projections_depth_charts_ros where ip > 0.0\", conn)\n",
    "dfb = pd.read_sql(\"select *from fantasy.batters_projections_depth_charts_ros\", conn)\n",
    "dfpa = pd.read_sql(\"select * from fantasy.pitchers_actuals\", conn)\n",
    "dfba = pd.read_sql(\"select * from fantasy.batters_actuals\", conn)\n",
    "dfbsa = pd.read_sql(\"select * from fantasy.batters_statcast\", conn)\n",
    "# dfpa.fillna(0, inplace=True)\n",
    "# dfba.fillna(0, inplace=True)\n",
    "print()"
   ]
  },
  {
   "cell_type": "code",
   "execution_count": null,
   "metadata": {},
   "outputs": [],
   "source": [
    "# create any calculated columns necessary\n",
    "dfb['k_pct'] = (dfb['so'] / dfb['ab']).round(2)\n",
    "dfb['rc'] = (dfb['ab'] * dfb['obp'] * dfb['slg']).round(2)\n",
    "dfba['k_pct'] = (dfb['so'] / dfb['ab']).round(2)\n",
    "dfba['ab'] = (dfba['pa'] * dfba['bb_pct'].apply(lambda x: 1 - float(x.strip('%')) / 100)).astype(int)\n",
    "dfba['rc'] = (dfba['ab'] * dfba['obp'] * dfba['slg']).round(2)\n",
    "dfba['ops'] = dfba['slg'] + dfba['obp']\n",
    "dfba['babip_diff'] = dfba['babip'] - dfba['avg']\n",
    "\n",
    "# quality starts metric from here:\n",
    "# https://yourfantasyjoe.blogspot.com/2010/02/projecting-quality-starts.html\n",
    "# xQS = GS * (.4650115 - (ERA * .0872381) + ((IP/GS) * .0746775))\n",
    "dfp['qs'] = (dfp['gs'] * (0.4650115 - (dfp['era'] * 0.0872381) + ((dfp['ip']/dfp['gs']) * .0746775))).round(2)\n",
    "dfp.fillna(value={'qs': 0.0}, inplace=True)\n",
    "print()"
   ]
  },
  {
   "cell_type": "code",
   "execution_count": null,
   "metadata": {},
   "outputs": [],
   "source": [
    "# thresholds for batters and pitchers\n",
    "MINIMUM_INNINGS_PITCHED = 100\n",
    "MINIMUM_INNINGS_PITCHED_ACTUALS = 4.0\n",
    "MINIMUM_PLATE_APPEARANCES = 180\n",
    "MINIMUM_PLATE_APPEARANCES_ACTUALS = 20\n",
    "min_pa = dfb['pa'] > MINIMUM_PLATE_APPEARANCES\n",
    "min_pa_act = dfba['pa'] > MINIMUM_PLATE_APPEARANCES_ACTUALS\n",
    "min_ip = dfp['ip'] > MINIMUM_INNINGS_PITCHED\n",
    "min_ip_act = dfpa['ip'] > MINIMUM_INNINGS_PITCHED_ACTUALS\n",
    "\n",
    "# dict of columns that we want to calculate z-scores for\n",
    "# +1 means more is better, -1 means lower is better\n",
    "dfb_score_cols = {\n",
    "    \"pa\": {\"dir\": 1, \"weight\": 1.3}, \n",
    "    \"so\": {\"dir\": -1, \"weight\": 1.0},\n",
    "    \"hr\": {\"dir\": 1, \"weight\": 0.9},\n",
    "    \"rc\": {\"dir\": 1, \"weight\": 1.4},\n",
    "    \"woba\": {\"dir\": 1, \"weight\": 1.3},\n",
    "    \"slg\": {\"dir\": 1, \"weight\": 1.0},\n",
    "    \"adp\": {\"dir\": -1, \"weight\": 0.3}\n",
    "}\n",
    "dfp_score_cols = {\n",
    "    \"ip\": {\"dir\": 1, \"weight\": 1.3},\n",
    "    \"era\": {\"dir\": -1, \"weight\": 1.0},\n",
    "    \"hr\": {\"dir\": -1, \"weight\": 0.9},\n",
    "    \"so\": {\"dir\": 1, \"weight\": 1.0},\n",
    "    \"whip\": {\"dir\": -1, \"weight\": 1.5},\n",
    "    \"k-9\": {\"dir\": 1, \"weight\": 1.3},\n",
    "    \"qs\": {\"dir\": 1, \"weight\": 1.0},\n",
    "    \"gs\": {\"dir\": 1, \"weight\": 0.35}\n",
    "}\n",
    "dfba_score_cols = {\n",
    "    \"pa\": {\"dir\": 1, \"weight\": 2.15},\n",
    "    \"k_pct\": {\"dir\": -1, \"weight\": 0.4},\n",
    "    \"hr\": {\"dir\": 1, \"weight\": 1.25},\n",
    "    \"rc\": {\"dir\": 1, \"weight\": 1.12},\n",
    "    \"ops\": {\"dir\": 1, \"weight\": 1.015},\n",
    "    \"xwoba\": {\"dir\": 1, \"weight\": 1.15},\n",
    "    \"iso\": {\"dir\": 1, \"weight\": 1.1},\n",
    "}\n",
    "dfpa_score_cols = {\n",
    "    \"ip\": {\"dir\": 1, \"weight\": 2.0},\n",
    "    \"hr_per9\": {\"dir\": -1, \"weight\": 0.9},\n",
    "    \"k_per9\": {\"dir\": 1, \"weight\": 1.0},\n",
    "    \"whip\": {\"dir\": -1, \"weight\": 1.5},\n",
    "    \"xfip\": {\"dir\": -1, \"weight\": 1.0},\n",
    "    \"siera\": {\"dir\": -1, \"weight\": 1.15},\n",
    "}\n",
    "dfb_weight = 1.0\n",
    "dfba_weight = 0.85\n",
    "dfp_weight = 1.0\n",
    "dfpa_weight = 0.82\n",
    "\n",
    "# get all of the score columns for maximum z-scoring\n",
    "dfb_score_col_names = [x + \"_score\" for x in dfb_score_cols.keys()]\n",
    "dfba_score_col_names = [x + \"_score\" for x in dfba_score_cols.keys()]\n",
    "dfp_score_col_names = [x + \"_score\" for x in dfp_score_cols.keys()]\n",
    "dfpa_score_col_names = [x + \"_score\" for x in dfpa_score_cols.keys()]\n",
    "\n",
    "# filter out unqualifieds\n",
    "dfba = dfba[min_pa_act]\n",
    "dfpa = dfpa[min_ip_act]"
   ]
  },
  {
   "cell_type": "code",
   "execution_count": null,
   "metadata": {},
   "outputs": [],
   "source": [
    "# only mean and stdev are filtered by minimums, so that way the player's actual\n",
    "# projections are still counted normally.\n",
    "\n",
    "# batter scores\n",
    "for col in dfb_score_cols.keys():\n",
    "    col_score = col + \"_score\"\n",
    "    dfb[col_score] = (\n",
    "        (dfb[col] - dfb[col][min_pa].mean()) / dfb[col][min_pa].std(ddof=0)\n",
    "        * dfb_score_cols[col][\"dir\"]\n",
    "        * dfb_score_cols[col][\"weight\"]\n",
    "    ).round(3)\n",
    "\n",
    "# batter actuals\n",
    "for col in dfba_score_cols.keys():\n",
    "    col_score = col + \"_score\"\n",
    "    dfba[col_score] = (\n",
    "        (dfba[col] - dfba[col][min_pa_act].mean()) / dfba[col][min_pa_act].std(ddof=0)\n",
    "        * dfba_score_cols[col][\"dir\"]\n",
    "        * dfba_score_cols[col][\"weight\"]\n",
    "    ).round(3)\n",
    "    \n",
    "# pitcher scores\n",
    "for col in dfp_score_cols.keys():\n",
    "    col_score = col + \"_score\"\n",
    "    dfp[col_score] = (\n",
    "        (dfp[col] - dfp[col][min_ip].mean()) / dfp[col][min_ip].std(ddof=0)\n",
    "        * dfp_score_cols[col][\"dir\"]\n",
    "        * dfp_score_cols[col][\"weight\"]\n",
    "    ).round(3)\n",
    "\n",
    "# pitcher actuals\n",
    "for col in dfpa_score_cols.keys():\n",
    "    col_score = col + \"_score\"\n",
    "    dfpa[col_score] = (\n",
    "        (dfpa[col] - dfpa[col][min_ip_act].mean()) / dfpa[col][min_ip_act].std(ddof=0)\n",
    "        * dfpa_score_cols[col][\"dir\"]\n",
    "        * dfpa_score_cols[col][\"weight\"]\n",
    "    ).round(3)"
   ]
  },
  {
   "cell_type": "code",
   "execution_count": null,
   "metadata": {},
   "outputs": [],
   "source": [
    "# sum all of the values into 'total_score'\n",
    "dfb['total_score'] = dfb[dfb_score_col_names].sum(axis=1)\n",
    "dfb['total_z_score'] = (\n",
    "    dfb['total_score'] - dfb['total_score'][min_pa].mean()) / dfb['total_score'][min_pa].std(ddof=0)\n",
    "dfb['total_z_score_rank'] = dfb['total_z_score'].rank(ascending=False)\n",
    "\n",
    "dfba['total_score'] = dfba[dfba_score_col_names].sum(axis=1)\n",
    "dfba['total_z_score'] = (\n",
    "    dfba['total_score'] - dfba['total_score'][min_pa_act].mean()) / dfba['total_score'][min_pa_act].std(ddof=0)\n",
    "dfba['total_z_score_rank'] = dfba['total_z_score'].rank(ascending=False)\n",
    "\n",
    "dfp['total_score'] = dfp[dfp_score_col_names].sum(axis=1)\n",
    "dfp['total_z_score'] = (\n",
    "    dfp['total_score'] - dfp['total_score'][min_ip].mean()) / dfp['total_score'][min_ip].std(ddof=0)\n",
    "dfp['total_z_score_rank'] = dfp['total_z_score'].rank(ascending=False)\n",
    "\n",
    "dfpa['total_score'] = dfpa[dfpa_score_col_names].sum(axis=1)\n",
    "dfpa['total_z_score'] = (\n",
    "    dfpa['total_score'] - dfpa['total_score'][min_ip_act].mean()) / dfpa['total_score'][min_ip_act].std(ddof=0)\n",
    "dfpa['total_z_score_rank'] = dfpa['total_z_score'].rank(ascending=False)\n",
    "\n",
    "# sort by score descending\n",
    "dfb.sort_values(by='total_z_score_rank', inplace=True)\n",
    "dfba.sort_values(by='total_z_score_rank', inplace=True)\n",
    "dfp.sort_values(by='total_z_score_rank', inplace=True)\n",
    "dfpa.sort_values(by='total_z_score', ascending=False, inplace=True)\n"
   ]
  },
  {
   "cell_type": "markdown",
   "metadata": {},
   "source": [
    "### Inflate League Mean\n",
    "\n",
    "For the majority of the z-scores that we're taking, the actual values of them are affected by the long-tail of players who don't get much playing time. To offset this, the mean is artifically placed at halfway through our number of drafted players to account for the fact that will be replacement level for our league."
   ]
  },
  {
   "cell_type": "code",
   "execution_count": null,
   "metadata": {
    "scrolled": true
   },
   "outputs": [],
   "source": [
    "# decrement scores by the mean of all drafted positions\n",
    "NUM_TEAMS = 8\n",
    "NUM_BATTERS = 15\n",
    "NUM_PITCHERS = 10\n",
    "\n",
    "MIDDLE_BATTER_INDEX = int((NUM_TEAMS * NUM_BATTERS) / 2)\n",
    "MIDDLE_PITCHER_INDEX = int((NUM_TEAMS * NUM_PITCHERS) / 2)\n",
    "\n",
    "middle_batter_score = dfb[dfb['total_z_score_rank'] == MIDDLE_BATTER_INDEX]['total_z_score']\n",
    "dfb['total_z_score'] = dfb['total_z_score'] - float(middle_batter_score)\n",
    "dfb.reset_index(drop=True)\n",
    "\n",
    "middle_pitcher_score = dfp[dfp['total_z_score_rank'] == MIDDLE_PITCHER_INDEX]['total_z_score']\n",
    "dfp['total_z_score'] = dfp['total_z_score'] - float(middle_pitcher_score)\n",
    "dfp.reset_index(drop=True)\n",
    "print()"
   ]
  },
  {
   "cell_type": "markdown",
   "metadata": {},
   "source": [
    "## Write to the Database\n",
    "\n",
    "Prior to writing the excel files, write back to the database for safekeeping."
   ]
  },
  {
   "cell_type": "code",
   "execution_count": null,
   "metadata": {},
   "outputs": [],
   "source": [
    "dfb.to_sql(\"batters_scores_ros\", conn, schema=\"fantasy\", if_exists=\"replace\")\n",
    "result = conn.execute(\"grant select on fantasy.batters_scores_ros to public\")\n",
    "\n",
    "dfba.to_sql(\"batters_scores_actuals\", conn, schema=\"fantasy\", if_exists=\"replace\")\n",
    "result = conn.execute(\"grant select on fantasy.batters_scores_actuals to public\")\n",
    "\n",
    "dfp.to_sql(\"pitchers_scores_ros\", conn, schema=\"fantasy\", if_exists=\"replace\")\n",
    "result = conn.execute(\"grant select on fantasy.pitchers_scores_ros to public\")\n",
    "\n",
    "dfpa.to_sql(\"pitchers_scores_actuals\", conn, schema=\"fantasy\", if_exists=\"replace\")\n",
    "result = conn.execute(\"grant select on fantasy.pitchers_scores_actuals to public\")\n"
   ]
  },
  {
   "cell_type": "markdown",
   "metadata": {},
   "source": [
    "## Create Draft Sheet\n",
    "\n",
    "This sheet includes a number of important pieces of information for drafting specifically, so that players can look up by eligibility as well as important stats.\n",
    "\n",
    "- Name\n",
    "- Eligibility\n",
    "- Positions\n",
    "- Combined scores"
   ]
  },
  {
   "cell_type": "code",
   "execution_count": null,
   "metadata": {},
   "outputs": [],
   "source": [
    "# pitchers query\n",
    "\n",
    "draft_sheet_query_p = \"\"\"\n",
    "select\n",
    "    p.fullname\n",
    "    , t.\"name\" as teamname\n",
    "    , case when p.onteamid = 0 then 0 else 1 end as owned\n",
    "    , p.eligibility as elig\n",
    "    , p.injurystatus as inj\n",
    "    , p.percentowned as pctOwn\n",
    "    , p.percentstarted as pctSt\n",
    "    , p.percentChange as pctChg\n",
    "    , trim(leading 'T' from pp.tier)::integer as tier\n",
    "    , sc_ros.fip \n",
    "    , sc_ros.qs \n",
    "    , sc_ros.era \n",
    "    , sc_ros.whip \n",
    "    , sc_ros.\"k-9\" \n",
    "    , sc_ros.ip \n",
    "    , sc_ros.total_z_score as score_ros\n",
    "    , sc.total_z_score as score_act\n",
    "    , sco.total_z_score as score_og\n",
    "from fantasy.players p\n",
    "    left join fantasy.teams t\n",
    "        on p.onteamid = t.espn_id\n",
    "    left join fantasy.pitchers_scores_actuals sc\n",
    "        on p.fullname = sc.\"name\"\n",
    "    left join fantasy.pitchers_scores sco\n",
    "        on p.fullname = sco.\"name\"\n",
    "    left join fantasy.pitchers_scores_ros sc_ros\n",
    "        on p.fullname = sc_ros.\"name\"\n",
    "    left join fantasy.pitchers_pitcherlist_100 pp \n",
    "        on p.fullname = pp.\"name\" \n",
    "where\n",
    "        p.eligibility not like '%UTIL%'\n",
    "    and p.percentowned > 0\n",
    "\"\"\"\n",
    "\n",
    "# batters query\n",
    "\n",
    "draft_sheet_query_b = \"\"\"\n",
    "select\n",
    "    p.fullname as name\n",
    "    , t.\"name\" as teamname\n",
    "    , case when p.onteamid = 0 then 0 else 1 end as owned\n",
    "    , p.eligibility as elig\n",
    "    , p.injurystatus as inj\n",
    "    , p.percentowned as pctOwn\n",
    "    , p.percentstarted as pctSt\n",
    "    , p.percentChange as pctChg\n",
    "    , sc_ros.rc \n",
    "    , sc_ros.obp \n",
    "    , sc_ros.slg \n",
    "    , sc_ros.hr \n",
    "    , sc_ros.k_pct \n",
    "    , sc_ros.ab \n",
    "    , sc.total_z_score as score_act\n",
    "    , sco.total_z_score as score_og\n",
    "    , sc_ros.total_z_score as score_ros\n",
    "from fantasy.players p\n",
    "    left join fantasy.teams t\n",
    "        on p.onteamid = t.espn_id\n",
    "    left join fantasy.batters_scores_actuals sc\n",
    "        on p.fullname = sc.\"name\"\n",
    "    left join fantasy.batters_scores sco\n",
    "        on p.fullname = sco.\"name\"\n",
    "    left join fantasy.batters_scores_ros sc_ros\n",
    "        on p.fullname = sc_ros.\"name\"\n",
    "where\n",
    "        p.eligibility like '%UTIL%'\n",
    "    and p.percentowned > 0\n",
    "\"\"\"\n",
    "dfp = pd.read_sql(sqlalchemy.text(draft_sheet_query_p), conn)\n",
    "dfb = pd.read_sql(sqlalchemy.text(draft_sheet_query_b), conn)"
   ]
  },
  {
   "cell_type": "code",
   "execution_count": null,
   "metadata": {},
   "outputs": [],
   "source": [
    "# calculate rankings and diffs by dataframe\n",
    "for df in [dfp, dfb]:\n",
    "    df.sort_values(by='score_ros', inplace=True, ascending=False)\n",
    "    df['rank'] = df['score_ros'].rank(ascending=False, method='first', na_option='bottom')\n",
    "    df.reset_index(drop=True)\n",
    "    df['score_vs_act'] = df['score_act'] - df['score_ros']\n",
    "    df['score_vs_og'] = df['score_ros'] - df['score_og']\n",
    "print()"
   ]
  },
  {
   "cell_type": "markdown",
   "metadata": {},
   "source": [
    "## Style Output\n",
    "\n",
    "In order to make the outputs more usable, apply a number of color stylings and ranking scale sliders to the actual xlsx file."
   ]
  },
  {
   "cell_type": "code",
   "execution_count": null,
   "metadata": {},
   "outputs": [],
   "source": [
    "dfp"
   ]
  },
  {
   "cell_type": "markdown",
   "metadata": {},
   "source": [
    "## Draft Sheet Preview\n",
    "\n",
    "This is a quick look at how the players are going to appear in the final draft sheet. Useful for comparing overall pitcher v batter weights (i.e. verify that nobody should be ranked higher than trout)."
   ]
  },
  {
   "cell_type": "code",
   "execution_count": null,
   "metadata": {},
   "outputs": [],
   "source": [
    "dfb[\n",
    "    (dfb['pctOwn'] > 5.0)\n",
    "    & (dfb['owned'] == 0)\n",
    "].sort_values(by='score', ascending=False).head(150)\n"
   ]
  },
  {
   "cell_type": "markdown",
   "metadata": {},
   "source": [
    "# Visualizations\n",
    "\n",
    "Here are a number of helpful visualizations to sort out the information from the draft sheet."
   ]
  },
  {
   "cell_type": "markdown",
   "metadata": {},
   "source": [
    "### ESPN Average Draft Pos vs. this Draft Sheet Ranking\n",
    "\n",
    "Here's how players stack up against how they're being drafted on ESPN right now"
   ]
  },
  {
   "cell_type": "code",
   "execution_count": null,
   "metadata": {
    "scrolled": true
   },
   "outputs": [],
   "source": [
    "sb.lmplot(x=\"score\", y=\"espn_adp\", hue=\"onteamid\", fit_reg=False, data=dfd[\n",
    "    (dfd['percentowned'] > 5.0) &\n",
    "#     ((dfd['claimed'] == 0) | (dfd['onteamid'] == 5)) &\n",
    "    (dfd['catg'] == 'P') &\n",
    "    (dfd['injurystatus'] == 'ACTIVE')\n",
    "].sort_values(by='score', ascending=False).head(150))\n"
   ]
  },
  {
   "cell_type": "code",
   "execution_count": null,
   "metadata": {},
   "outputs": [],
   "source": [
    "sb.scatterplot(x=\"score\", y=\"score_ros\", hue=\"score_diff\", size=\"score_diff\",\n",
    "          data=dfd[(dfd['percentowned'] > 20.0) & (dfd['claimed'] == 0) & (dfd['catg'] == 'B')])"
   ]
  },
  {
   "cell_type": "markdown",
   "metadata": {},
   "source": [
    "Here are the biggest individual differences in ranking for the top 100 players by rank in this system. If the number is negative that means this system thinks that they're better than their espn adp."
   ]
  },
  {
   "cell_type": "code",
   "execution_count": null,
   "metadata": {},
   "outputs": [],
   "source": [
    "dfd[(dfd['percentowned'] > 20.0) & ((dfd['claimed'] == 0) | (dfd['onteamid'] == 5)) & (dfd['pos'] == 'RP')\n",
    "   ].sort_values(by='score', ascending=False).head(100)"
   ]
  },
  {
   "cell_type": "markdown",
   "metadata": {},
   "source": [
    "### Team Comparisons\n",
    "\n",
    "The individual positions and their associated depth for this year."
   ]
  },
  {
   "cell_type": "code",
   "execution_count": null,
   "metadata": {
    "scrolled": false
   },
   "outputs": [],
   "source": [
    "sb.barplot(x=\"catg\", y=\"score\", hue=\"onteamid\", ci=None, data=dfd[dfd['onteamid'] > 0])"
   ]
  }
 ],
 "metadata": {
  "kernelspec": {
   "display_name": "Python 3",
   "language": "python",
   "name": "python3"
  },
  "language_info": {
   "codemirror_mode": {
    "name": "ipython",
    "version": 3
   },
   "file_extension": ".py",
   "mimetype": "text/x-python",
   "name": "python",
   "nbconvert_exporter": "python",
   "pygments_lexer": "ipython3",
   "version": "3.7.2"
  }
 },
 "nbformat": 4,
 "nbformat_minor": 2
}
