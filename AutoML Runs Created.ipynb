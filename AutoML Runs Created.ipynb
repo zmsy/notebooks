{
 "cells": [
  {
   "cell_type": "markdown",
   "metadata": {},
   "source": [
    "# AutoML Runs Created\n",
    "\n",
    "This is a model to try to predict how many runs created a specific player will get over the next few weeks."
   ]
  },
  {
   "cell_type": "code",
   "execution_count": 2,
   "metadata": {
    "collapsed": true
   },
   "outputs": [
    {
     "name": "stderr",
     "output_type": "stream",
     "text": [
      "/Users/zach/Library/Python/3.7/lib/python/site-packages/pyparsing.py:2681: FutureWarning: Possible set intersection at position 3\n",
      "  self.re = re.compile( self.reString )\n",
      "/Users/zach/Library/Python/3.7/lib/python/site-packages/sklearn/ensemble/weight_boosting.py:29: DeprecationWarning: numpy.core.umath_tests is an internal NumPy module and should not be imported. It will be removed in a future NumPy release.\n",
      "  from numpy.core.umath_tests import inner1d\n",
      "/Users/zach/Library/Python/3.7/lib/python/site-packages/psycopg2/__init__.py:144: UserWarning: The psycopg2 wheel package will be renamed from release 2.8; in order to keep installing from binary please use \"pip install psycopg2-binary\" instead. For details see: <http://initd.org/psycopg/docs/install.html#binary-install-from-pypi>.\n",
      "  \"\"\")\n"
     ]
    }
   ],
   "source": [
    "import autosklearn as ask\n",
    "import autosklearn.regression as rgr\n",
    "from sklearn import model_selection\n",
    "import pandas as pd\n",
    "import numpy as np\n",
    "import os\n",
    "import sqlalchemy\n",
    "import psycopg2\n",
    "import pybaseball\n",
    "import seaborn as sb\n",
    "import requests\n",
    "import datetime\n",
    "import pandas_datareader as pdr\n",
    "\n",
    "# arbitrarily high max view columns\n",
    "pd.options.display.max_columns = 300\n",
    "pd.options.display.max_rows = 200"
   ]
  },
  {
   "cell_type": "code",
   "execution_count": 3,
   "metadata": {},
   "outputs": [],
   "source": [
    "# get data from fangraphs\n",
    "df = pybaseball.batting_stats(\"2019\")"
   ]
  },
  {
   "cell_type": "code",
   "execution_count": 4,
   "metadata": {},
   "outputs": [],
   "source": [
    "# choose list of valid columns to keep\n",
    "df.columns = [x.lower() for x in df.columns]\n",
    "columns_to_keep = [\n",
    " 'age','g','ab', 'pa', 'h', '1b', '2b', '3b', 'hr', 'r', 'rbi', 'bb',\n",
    " 'ibb', 'so', 'hbp', 'sf', 'sh', 'gdp', 'sb', 'cs', 'avg', 'gb', 'fb',\n",
    " 'ld', 'iffb', 'pitches', 'balls', 'strikes', 'ifh', 'bu', 'buh', 'bb%',\n",
    " 'k%', 'bb/k', 'obp', 'slg', 'ops', 'iso', 'babip', 'gb/fb', 'ld%', 'gb%',\n",
    " 'fb%', 'iffb%', 'hr/fb', 'ifh%', 'buh%', 'woba', 'wraa', 'bat',\n",
    " 'rep', 'pos', 'rar', 'war', 'spd', 'wrc+', 'wpa', '-wpa', '+wpa',\n",
    " 're24', 'rew', 'pli', 'ph', 'wpa/li', 'fbv', 'wfb', 'wsl',\n",
    " 'wct', 'wcb', 'wfb/c', 'wsl/c', 'wct/c', 'wcb/c', 'o-swing%',\n",
    " 'z-swing%', 'swing%', 'o-contact%', 'z-contact%',\n",
    " 'contact%', 'zone%', 'f-strike%', 'swstr%', 'bsr', 'pace', 'def', 'wsb',\n",
    " 'ubr', 'off', 'lg', 'wgdp', 'pull%', 'cent%', 'oppo%', 'soft%',\n",
    " 'med%', 'hard%', 'tto%']\n",
    "df = df[columns_to_keep]\n",
    "df_y = df['ab'] * df['obp'] * df['slg']"
   ]
  },
  {
   "cell_type": "code",
   "execution_count": 5,
   "metadata": {},
   "outputs": [],
   "source": [
    "regressor = rgr.AutoSklearnRegressor()\n",
    "x_train, x_test, y_train, y_test = model_selection.train_test_split(df, df_y)"
   ]
  },
  {
   "cell_type": "code",
   "execution_count": 1,
   "metadata": {},
   "outputs": [
    {
     "ename": "NameError",
     "evalue": "name 'regressor' is not defined",
     "output_type": "error",
     "traceback": [
      "\u001b[0;31m---------------------------------------------------------------------------\u001b[0m",
      "\u001b[0;31mNameError\u001b[0m                                 Traceback (most recent call last)",
      "\u001b[0;32m<ipython-input-1-cfd73197d63d>\u001b[0m in \u001b[0;36m<module>\u001b[0;34m\u001b[0m\n\u001b[0;32m----> 1\u001b[0;31m \u001b[0mregressor\u001b[0m\u001b[0;34m.\u001b[0m\u001b[0mfit\u001b[0m\u001b[0;34m(\u001b[0m\u001b[0mx_train\u001b[0m\u001b[0;34m,\u001b[0m \u001b[0my_train\u001b[0m\u001b[0;34m,\u001b[0m \u001b[0mdataset_name\u001b[0m\u001b[0;34m=\u001b[0m\u001b[0;34m'boston'\u001b[0m\u001b[0;34m)\u001b[0m\u001b[0;34m\u001b[0m\u001b[0;34m\u001b[0m\u001b[0m\n\u001b[0m",
      "\u001b[0;31mNameError\u001b[0m: name 'regressor' is not defined"
     ]
    }
   ],
   "source": [
    "regressor.fit(x_train, y_train, dataset_name='boston')"
   ]
  }
 ],
 "metadata": {
  "kernelspec": {
   "display_name": "Python 3",
   "language": "python",
   "name": "python3"
  },
  "language_info": {
   "codemirror_mode": {
    "name": "ipython",
    "version": 3
   },
   "file_extension": ".py",
   "mimetype": "text/x-python",
   "name": "python",
   "nbconvert_exporter": "python",
   "pygments_lexer": "ipython3",
   "version": "3.7.2"
  }
 },
 "nbformat": 4,
 "nbformat_minor": 2
}
